{
 "cells": [
  {
   "cell_type": "markdown",
   "metadata": {},
   "source": [
    "# Lab 3\n",
    "\n",
    "## Submitting lab solutions\n",
    "\n",
    "At the end of the previous lab, you should have set up a \"Solutions\" directory in your home directory on TACC, with a fork of the class git repository that pull from Dr. Farbin's verison and pushes to your own fork. \n",
    "\n",
    "Open a terminal, navigate to your fork, and use `git remove -v` to verify that things are correctly setup.\n",
    "\n",
    "Your solutions to the lab 2 are either sitting in this fork, or in the first clone of the class repository that you made at the beginning of lab 2. \n",
    "\n",
    "Note that Jupyter tends to auto-save your work. But to make sure, it is a good habit to use the \"Save and Checkpoint\" command from the \"File\" menu whenever you are ending a session.\n",
    "\n",
    "Locate the your lab 2 notebook and copy and rename it into the same directory in your fork. \n",
    "\n",
    "For example:"
   ]
  },
  {
   "cell_type": "code",
   "execution_count": null,
   "metadata": {
    "collapsed": true
   },
   "outputs": [],
   "source": [
    "!cp ~/DATA1401-Spring-2019/Labs/Lab-2/Lab-2.ipynb ~/Solutions/DATA1401-Spring-2019/Labs/Lab-2/Lab-2-Solution.ipynb"
   ]
  },
  {
   "cell_type": "markdown",
   "metadata": {},
   "source": [
    "The reason we are renaming the file is due to a complication that you may experience when pulling updates into your fork. If a file was updated after your last pull and modifications, your modifications will likely cause a merge conflict, which can be a headache to resolve. Creating a new file side-steps this problem.\n",
    "\n",
    "Now that you have a new file in your fork, add the file into local repository:"
   ]
  },
  {
   "cell_type": "code",
   "execution_count": null,
   "metadata": {
    "collapsed": true
   },
   "outputs": [],
   "source": [
    "!git add ~/Solutions/DATA1401-Spring-2019/Labs/Lab-2/Lab-2-Solution.ipynb"
   ]
  },
  {
   "cell_type": "markdown",
   "metadata": {},
   "source": [
    "You only need to add a file once. Next, commit this file to your local copy of the repository:"
   ]
  },
  {
   "cell_type": "code",
   "execution_count": null,
   "metadata": {
    "collapsed": true
   },
   "outputs": [],
   "source": [
    "!git commit -a -m \"My Lab 2 Solutions\""
   ]
  },
  {
   "cell_type": "markdown",
   "metadata": {},
   "source": [
    "You are required to provide a text message when commiting files, and the `-m` option is the nicest way to do it. If you do not supply a message, you will find yourself in a text editor (most likely vi) which is difficult to use and forced to enter a message.\n",
    "\n",
    "You will need to commit your changes every time you wish to submit any changes. So if you keep working or come back to a lab, make sure you commit your changes.\n",
    "\n",
    "Now that you committed your changes, you will need to push these changes to the fork of the package in your github account:"
   ]
  },
  {
   "cell_type": "code",
   "execution_count": null,
   "metadata": {
    "collapsed": true
   },
   "outputs": [],
   "source": [
    "!git push"
   ]
  },
  {
   "cell_type": "markdown",
   "metadata": {},
   "source": [
    "You will likely need to supply you git username and password.\n",
    "\n",
    "Your lab is now available for grading. Remember that unless you commit and push your work, it will not be seen.\n",
    "\n",
    "From now on, use this procedure to submit your solutions to labs, including the remainder of this lab. \n",
    "\n",
    "You can work in your Solutions directory if you like. But note that it may be a good practice to use the \"File\" menu to duplicate and remain labs when you first start. Besides letting you avoid having to do the copy later, you will have a copy of the original notebook, in case you delete something and can pull updates, in case of bug fixes."
   ]
  },
  {
   "cell_type": "markdown",
   "metadata": {},
   "source": [
    "## Python Programming\n",
    "\n",
    "In the remainder of this lab you will practice python by solving some simple exercises. \n",
    "\n",
    "*Exercise 1:* Write 2 functions `even(x)` and `odd(x)` that take an integer and returns True if the input is even or odd, otherwise returns False. Use cell below for your solution. Use the subsequent cell to demonstrate that your solution works. Feel free to add additional cell as needed using the \"+\" button on the button bar above. "
   ]
  },
  {
   "cell_type": "code",
   "execution_count": null,
   "metadata": {
    "collapsed": true
   },
   "outputs": [],
   "source": [
    "def even(n):\n",
    "    if n % 2 == 0:\n",
    "        print 'even'\n",
    "    else:\n",
    "        print 'odd'"
   ]
  },
  {
   "cell_type": "code",
   "execution_count": null,
   "metadata": {
    "collapsed": true
   },
   "outputs": [],
   "source": [
    "n = 4\n",
    "even(n)"
   ]
  },
  {
   "cell_type": "markdown",
   "metadata": {},
   "source": [
    "*Exercise 2:* Write a function that takes a list of numbers as input and returns a list of the subset of elements that are less that 10. Test your solution."
   ]
  },
  {
   "cell_type": "code",
   "execution_count": null,
   "metadata": {
    "collapsed": true
   },
   "outputs": [],
   "source": [
    "def less_than_ten(input):\n",
    "    output = []\n",
    "    for x in input:\n",
    "        if x < 10:\n",
    "            output.append(x)\n",
    "    return output"
   ]
  },
  {
   "cell_type": "code",
   "execution_count": null,
   "metadata": {
    "collapsed": true
   },
   "outputs": [],
   "source": [
    "input = [1,50,4,2,3,11]\n",
    "less_than_ten(input)\n"
   ]
  },
  {
   "cell_type": "markdown",
   "metadata": {},
   "source": [
    "*Exercise 3:* Write a function that takes a number `x_max` as input and returns a function that performs the same task as exercise 2, but for `x_max` instead of 10."
   ]
  },
  {
   "cell_type": "code",
   "execution_count": null,
   "metadata": {
    "collapsed": true
   },
   "outputs": [],
   "source": [
    "def less_than_N(input, N):\n",
    "    output = []\n",
    "    for x in input:\n",
    "        if x < N:\n",
    "            output.append(x)\n",
    "    return output"
   ]
  },
  {
   "cell_type": "code",
   "execution_count": null,
   "metadata": {
    "collapsed": true
   },
   "outputs": [],
   "source": [
    "input = [1,50,4,2,3,11]\n",
    "less_than_N(input, 12)"
   ]
  },
  {
   "cell_type": "markdown",
   "metadata": {},
   "source": [
    "*Exercise 4:* Write a function that takes an interger as input and returns a list of all divisors of that number."
   ]
  },
  {
   "cell_type": "code",
   "execution_count": null,
   "metadata": {
    "collapsed": true
   },
   "outputs": [],
   "source": [
    "def find_divisors(N):\n",
    "    output = []\n",
    "    for i in range(1,N):\n",
    "        if N % i == 0:\n",
    "            output.append(i)\n",
    "    return output"
   ]
  },
  {
   "cell_type": "code",
   "execution_count": null,
   "metadata": {
    "collapsed": true
   },
   "outputs": [],
   "source": [
    "find_divisors(10)"
   ]
  },
  {
   "cell_type": "markdown",
   "metadata": {},
   "source": [
    "*Exercise 5:* Write a function that takes 2 lists as input and returns a list that contains only the elements that are common between the lists (without duplicates). Make sure your program works on two lists of different sizes."
   ]
  },
  {
   "cell_type": "code",
   "execution_count": null,
   "metadata": {
    "collapsed": true
   },
   "outputs": [],
   "source": [
    "def list_compare(list1, list2):\n",
    "    output = []\n",
    "    for x in list1:\n",
    "        for y in list2:\n",
    "            if y == x and y not in output:\n",
    "                output.append(y)\n",
    "    return output"
   ]
  },
  {
   "cell_type": "code",
   "execution_count": null,
   "metadata": {
    "collapsed": true
   },
   "outputs": [],
   "source": [
    "list1 = [1,2,3,4,5]\n",
    "list2 = [6,7,3,3]\n",
    "list_compare(list1, list2)"
   ]
  },
  {
   "cell_type": "markdown",
   "metadata": {},
   "source": [
    "*Exercise 6:* Write a function that reads takes a string and returns `True` if the string is a palindrome. (A palindrome is a string that reads the same forwards and backwards.)"
   ]
  },
  {
   "cell_type": "code",
   "execution_count": null,
   "metadata": {
    "collapsed": true
   },
   "outputs": [],
   "source": [
    "def is_palindrome(s):\n",
    "    r = s[::-1]\n",
    "    if r == s:\n",
    "        return True\n",
    "    else:\n",
    "        return False\n",
    "    "
   ]
  },
  {
   "cell_type": "code",
   "execution_count": null,
   "metadata": {
    "collapsed": true
   },
   "outputs": [],
   "source": [
    "s = 'anna'\n",
    "is_palindrome(s)"
   ]
  },
  {
   "cell_type": "markdown",
   "metadata": {},
   "source": [
    "*Exercise 7:* Write a Rock-Paper-Scissors game function, that takes 2 strings, the inputs of player 1 and player 2, and output 1 or 2 corresponding to which player wins, or 0 if draw.\n",
    "\n",
    "Implement a Rock-Paper-Scissors game by soliciting input from 2 players, testing with this function, and repeating if there is a draw.\n",
    "\n",
    "Remember the rules:\n",
    "\n",
    "* Rock beats scissors\n",
    "* Scissors beats paper\n",
    "* Paper beats rock"
   ]
  },
  {
   "cell_type": "code",
   "execution_count": null,
   "metadata": {
    "collapsed": true
   },
   "outputs": [],
   "source": [
    "def game(input1, input2):\n",
    "    r = 0 #result variable\n",
    "    if input1 == 'rock' and input2 == 'rock':\n",
    "        r = 0\n",
    "    elif input1 == 'rock' and input2 == 'scissors':\n",
    "        r = 1\n",
    "    elif input1 == 'rock' and input2 == 'paper':\n",
    "        r = 2\n",
    "    elif input1 == 'scissors' and input2 == 'rock':\n",
    "        r = 2\n",
    "    elif input1 == 'scissors' and input2 == 'scissors':\n",
    "        r = 0\n",
    "    elif input1 == 'scissors' and input2 == 'paper':\n",
    "        r = 1\n",
    "    elif input1 == 'paper' and input2 == 'rock':\n",
    "        r = 1\n",
    "    elif input1 == 'paper' and input2 == 'scissors':\n",
    "        r = 2\n",
    "    elif input1 == 'paper' and input2 == 'paper':\n",
    "        r = 0\n",
    "    return r"
   ]
  },
  {
   "cell_type": "code",
   "execution_count": null,
   "metadata": {
    "collapsed": true
   },
   "outputs": [],
   "source": [
    "input1 = raw_input(\"Player 1, enter 'rock', 'paper', or 'scissors'\")\n",
    "input2 = raw_input(\"Player 2, enter 'rock', 'paper', or 'scissors'\")\n",
    "r = game(input1, input2)\n",
    "if r == 0:\n",
    "    print 'draw'\n",
    "elif r == 1:\n",
    "    print 'Player 1 wins'\n",
    "elif r == 2:\n",
    "    print 'Player 2 wins'"
   ]
  },
  {
   "cell_type": "markdown",
   "metadata": {},
   "source": [
    "*Exercise 8:* Write a function that takes a integer `n` as input and \n",
    "outputs a list of the first `n` Fibonnaci numbers.\n",
    "\n",
    "The Fibonnaci seqence is a sequence of numbers where the next number in the sequence is the sum of the previous two numbers in the sequence. The sequence looks like this: 1, 1, 2, 3, 5, 8, 13, …)"
   ]
  },
  {
   "cell_type": "code",
   "execution_count": null,
   "metadata": {
    "collapsed": true
   },
   "outputs": [],
   "source": [
    "def fib(N):\n",
    "    output = []\n",
    "    cnt = 0 #count\n",
    "    a = 0 #base cases\n",
    "    b = 1 #base cases\n",
    "    while cnt < N:\n",
    "       output.append(a)\n",
    "       c = a + b #c is the nth term of the Fibonacci sequence\n",
    "       a = b\n",
    "       b = c\n",
    "       cnt += 1\n",
    "    return output"
   ]
  },
  {
   "cell_type": "code",
   "execution_count": null,
   "metadata": {
    "collapsed": true
   },
   "outputs": [],
   "source": [
    "r = fib(10)\n",
    "print r"
   ]
  },
  {
   "cell_type": "markdown",
   "metadata": {},
   "source": [
    "*Exercise 9:* Write a function that takes a string of consisting of several words and returns a string that reverses the order of the words.\n"
   ]
  },
  {
   "cell_type": "code",
   "execution_count": null,
   "metadata": {
    "collapsed": true
   },
   "outputs": [],
   "source": [
    "def reverse_the_words(s):\n",
    "    words = s.split()\n",
    "    output = [] #list of words in reverse order\n",
    "    for x in reversed(words):\n",
    "        output.append(x)\n",
    "    return output"
   ]
  },
  {
   "cell_type": "code",
   "execution_count": null,
   "metadata": {
    "collapsed": true
   },
   "outputs": [],
   "source": [
    "s = \"the dog jumped over the fence\"\n",
    "reverse_the_words(s)"
   ]
  },
  {
   "cell_type": "markdown",
   "metadata": {},
   "source": [
    "*Exercise 11:* Write a guessing game program that will repeatedly guess a number that the users picks, with the user indicating higher or lower, until it correctly guesses the number."
   ]
  },
  {
   "cell_type": "code",
   "execution_count": null,
   "metadata": {
    "collapsed": true
   },
   "outputs": [],
   "source": [
    "import random\n",
    "# Write you solution here\n",
    "def number_guessing_game(num):\n",
    "    guess = random.randint(1,100)\n",
    "    while guess != num:\n",
    "        print guess\n",
    "        response = raw_input('Is it higher or lower? Enter \"hi\" or \"lo\"')\n",
    "        if response == 'hi':\n",
    "            guess = guess + 10\n",
    "        else:\n",
    "            guess = guess - 10\n",
    "        "
   ]
  },
  {
   "cell_type": "code",
   "execution_count": null,
   "metadata": {
    "collapsed": true
   },
   "outputs": [],
   "source": [
    "# Test your solution here\n",
    "user_num = raw_input('Enter an integer between 1 and 100')\n",
    "number_guessing_game(user_num)"
   ]
  },
  {
   "cell_type": "markdown",
   "metadata": {},
   "source": [
    "*Exercise 10:* Write a function that takes 2 integers `n` and `m` as input and draws a `n` by `m` game board. For example the following is a 3x3 board:\n",
    "```\n",
    "   --- --- --- \n",
    "  |   |   |   | \n",
    "   --- --- ---  \n",
    "  |   |   |   | \n",
    "   --- --- ---  \n",
    "  |   |   |   | \n",
    "   --- --- --- \n",
    "   ```"
   ]
  },
  {
   "cell_type": "code",
   "execution_count": 127,
   "metadata": {
    "collapsed": true
   },
   "outputs": [],
   "source": [
    "def draw_board(n,m):\n",
    "    i = 0\n",
    "    j = 0\n",
    "    dash = ' ---'\n",
    "    pipe = '|'\n",
    "    if n == m:\n",
    "        for i in range(n):\n",
    "            print dash*n\n",
    "            print (pipe+' '*n)*(n+1)\n",
    "        print dash*n\n",
    "    elif n > m:\n",
    "        for i in range(n):\n",
    "            print dash*n\n",
    "            print (pipe+(' ')*(n-1))*(n+1)\n",
    "        print dash*n\n",
    "    elif n < m:\n",
    "        for i in range(n):\n",
    "            print dash*n\n",
    "            print (pipe+(' ')*(n+2))*(n+1)\n",
    "        print dash*n\n",
    "        "
   ]
  },
  {
   "cell_type": "code",
   "execution_count": 131,
   "metadata": {},
   "outputs": [
    {
     "name": "stdout",
     "output_type": "stream",
     "text": [
      " --- ---\n",
      "|   |   |   \n",
      " --- ---\n",
      "|   |   |   \n",
      " --- ---\n"
     ]
    }
   ],
   "source": [
    "draw_board(2,3)"
   ]
  },
  {
   "cell_type": "markdown",
   "metadata": {},
   "source": [
    "*Exercise 11:* Write a function that takes a `n` by `n` matrix representing a tic-tac-toe game, and return -1, 0, 1, or 2 indicating the game is incomplete, the game is a draw, player 1 has won, or player 2 has one, respectively. Here are some example inputs:"
   ]
  },
  {
   "cell_type": "code",
   "execution_count": 4,
   "metadata": {
    "collapsed": true
   },
   "outputs": [],
   "source": [
    "winner_is_2 = [[2, 2, 0],\n",
    "\t[2, 1, 0],\n",
    "\t[2, 1, 1]]\n",
    "\n",
    "winner_is_1 = [[1, 2, 0],\n",
    "\t[2, 1, 0],\n",
    "\t[2, 1, 1]]\n",
    "\n",
    "winner_is_also_1 = [[0, 1, 0],\n",
    "\t[2, 1, 0],\n",
    "\t[2, 1, 1]]\n",
    "\n",
    "no_winner = [[1, 2, 0],\n",
    "\t[2, 1, 0],\n",
    "\t[2, 1, 2]]\n",
    "\n",
    "also_no_winner = [[1, 2, 0],\n",
    "\t[2, 1, 0],\n",
    "\t[2, 1, 0]]"
   ]
  },
  {
   "cell_type": "code",
   "execution_count": null,
   "metadata": {
    "collapsed": true
   },
   "outputs": [],
   "source": [
    "# Write you solution here\n",
    "def checkWin(b):\n",
    "    #1 is an X, 2 is an O, g is a string representing the game result and b is a board\n",
    "    #player 1 wins horizontally\n",
    "    g = 'null'\n",
    "    if(b[0][0] == 1 and b[0][0] == b[0][1] and b[0][1] == b[0][2] and b[0][0] != 0):\n",
    "\t    g = '1 wins'\n",
    "    elif(b[1][0] == 1 and b[1][0] == b[1][1] and b[1][1] == b[1][2] and b[1][0] != 0):\n",
    "\t    g = '1 wins'\n",
    "    elif(b[2][0] == 1 and b[2][0] == b[2][1] and b[2][1] == b[2][2] and b[2][0] != 0):\n",
    "    \tg = '1 wins'\n",
    "    #player 1 wins vertically\n",
    "    elif(b[0][0] == 1 and b[0][0] == b[1][0] and b[1][0] == b[2][0] and b[0][0] != 0):\n",
    "    \tg = '1 wins'\n",
    "    elif(b[0][1] == 1 and b[0][1] == b[1][1] and b[1][1] == b[2][1] and b[0][1] != 0):\n",
    "    \tg = '1 wins'\n",
    "    elif(b[0][2] == 1 and b[0][2] == b[1][2] and b[1][2] == b[2][2] and b[0][2] != 0):\n",
    "    \tg = '1 wins'\n",
    "    #player 1 wins diagonally\n",
    "    elif(b[0][0] == 1 and b[0][0] == b[1][1] and b[1][1] == b[2][2] and b[1][1] != 0):\n",
    "    \tg = '1 wins'\n",
    "    elif(b[0][2] == 1 and b[0][2] == b[1][1] and b[1][1] == b[2][0] and b[1][1] != 0):\n",
    "    \tg = '1 wins'\n",
    "    #player2 wins horizontally\n",
    "    if(b[0][0] == 2 and b[0][0] == b[0][1] and b[0][1] == b[0][2] and b[0][0] != 0):\n",
    "\t    g = '2 wins'\n",
    "    elif(b[1][0] == 2 and b[1][0] == b[1][1] and b[1][1] == b[1][2] and b[1][0] != 0):\n",
    "\t    g = '2 wins'\n",
    "    elif(b[2][0] == 2 and b[2][0] == b[2][1] and b[2][1] == b[2][2] and b[2][0] != 0):\n",
    "    \tg = '2 wins'\n",
    "    #player2 wins vertically\n",
    "    elif(b[0][0] == 2 and b[0][0] == b[1][0] and b[1][0] == b[2][0] and b[0][0] != 0):\n",
    "    \tg = '2 wins'\n",
    "    elif(b[0][1] == 2 and b[0][1] == b[1][1] and b[1][1] == b[2][1] and b[0][1] != 0):\n",
    "    \tg = '2 wins'\n",
    "    elif(b[0][2] == 2 and b[0][2] == b[1][2] and b[1][2] == b[2][2] and b[0][2] != 0):\n",
    "    \tg = '2 wins'\n",
    "    #player 2 wins diagonally\n",
    "    elif(b[0][0] == 2 and b[0][0] == b[1][1] and b[1][1] == b[2][2] and b[1][1] != 0):\n",
    "    \tg = '2 wins'\n",
    "    elif(b[0][2] == 2 and b[0][2] == b[1][1] and b[1][1] == b[2][0] and b[1][1] != 0):\n",
    "    \tg = '2 wins'\n",
    "    #draw\n",
    "    else:\n",
    "\t    g = 'incomplete'\n",
    "    if(g == '1 wins'):\n",
    "        result = 1\n",
    "    elif(g == '2 wins'):\n",
    "        result = 2\n",
    "    elif g == 'draw':\n",
    "        result = 0\n",
    "    elif g == 'incomplete':\n",
    "    \tresult = -1\n",
    "    return result\n",
    "    \n",
    "    "
   ]
  },
  {
   "cell_type": "code",
   "execution_count": null,
   "metadata": {
    "collapsed": true
   },
   "outputs": [],
   "source": [
    "board = [[2, 2, 0],\n",
    "\t[2, 1, 0],\n",
    "\t[2, 1, 1]]\n",
    "r = checkWin(board)\n",
    "print(r)"
   ]
  },
  {
   "cell_type": "markdown",
   "metadata": {},
   "source": [
    "*Exercise 12:* Modify exercise 10, so that it takes a matrix of the form from exercise 11 and draws a tic-tac-tie board with \"X\"s and \"O\"s.  "
   ]
  },
  {
   "cell_type": "code",
   "execution_count": null,
   "metadata": {
    "collapsed": true
   },
   "outputs": [],
   "source": [
    "def draw_ttt_board(b, n = 3, m = 3):\n",
    "    i = 0\n",
    "    j = 0\n",
    "    dash = ' ---'\n",
    "    pipe = '|'\n",
    "    if n == m:\n",
    "        for i in range(n):\n",
    "            print dash*n\n",
    "            if b[i][j] == 1:\n",
    "                print 'X'\n",
    "            else: print 'O'\n",
    "            print (pipe+' '*n)*(n+1)\n",
    "        print dash*n\n",
    "    elif n > m:\n",
    "        for i in range(n):\n",
    "            print dash*n\n",
    "            print (pipe+(' ')*(n-1))*(n+1)\n",
    "        print dash*n\n",
    "    elif n < m:\n",
    "        for i in range(n):\n",
    "            print dash*n\n",
    "            print (pipe+(' ')*(n+2))*(n+1)\n",
    "        print dash*n"
   ]
  },
  {
   "cell_type": "code",
   "execution_count": null,
   "metadata": {
    "collapsed": true
   },
   "outputs": [],
   "source": [
    "board = [[2, 2, 0],\n",
    "\t[2, 1, 0],\n",
    "\t[2, 1, 1]]\n",
    "draw_ttt_board(board)"
   ]
  },
  {
   "cell_type": "markdown",
   "metadata": {},
   "source": [
    "*Exercise 12:* Use the two previous exercises to implement a full tic-tac-toe game, where 2 players are repeatedly asked for x and y coordinates of where they wish to place a mark, an appropriate board is drawn, and the game status is checked until a player wins or a draw occurs."
   ]
  },
  {
   "cell_type": "code",
   "execution_count": null,
   "metadata": {
    "collapsed": true
   },
   "outputs": [],
   "source": [
    "def tic_tac_toe_game():\n",
    "    board = [[0,0,0], [0,0,0], [0,0,0]]\n",
    "    while g == 'incomplete':\n",
    "        draw_ttt_board(board)\n",
    "        checkWin(b)"
   ]
  },
  {
   "cell_type": "code",
   "execution_count": null,
   "metadata": {
    "collapsed": true
   },
   "outputs": [],
   "source": [
    "# Test your solution here\n",
    "tic_tac_toe_game()"
   ]
  }
 ],
 "metadata": {
  "kernelspec": {
   "display_name": "Python 2",
   "language": "python",
   "name": "python2"
  },
  "language_info": {
   "codemirror_mode": {
    "name": "ipython",
    "version": 2
   },
   "file_extension": ".py",
   "mimetype": "text/x-python",
   "name": "python",
   "nbconvert_exporter": "python",
   "pygments_lexer": "ipython2",
   "version": "2.7.13"
  }
 },
 "nbformat": 4,
 "nbformat_minor": 2
}
