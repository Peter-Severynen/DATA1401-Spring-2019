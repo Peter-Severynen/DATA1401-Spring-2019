{
 "cells": [
  {
   "cell_type": "markdown",
   "metadata": {},
   "source": [
    "# Lab 5 - Part 2\n",
    "\n",
    "In the first part of this lab, you were tasked with implementing a Matrix class based on the matrix operations you implemented in Exam 1.\n",
    "\n",
    "In this part of the lab you will test your Matrix implementation by comparing to the `numpy` which is the most commonly used python library for matrices and tensors (high dimensional matrices).\n",
    "\n",
    "## Matrix Library\n",
    "\n",
    "*Exercise 1:* You implemented the first part of this lab in a python notebook. Use the new button from the Jupyter file browser page to create and edit a new text file named \"matrix.py\" in the \"Lab-5\" directory where this current notebook is running. Copy and paste your matrix implementation into this file. You may use a different text editor if you like. Make sure you add, commit, and push your `matrix.py` file when you submit your solutions to this lab.\n",
    "\n",
    "*Exercise 2:* Use python `import` to import your library into this notebook. Note that if there is a problem with your \"matrix.py\" file, you will get an error during the import. You can correct this error by editting the file and running the import cell again. But if the import succeeds, using import will not re-read the file. So if you edit the file after a successful import, you will need to either restart this notebook or use the python `reload` built-in to reload your matrix module.\n"
   ]
  },
  {
   "cell_type": "code",
   "execution_count": 7,
   "metadata": {},
   "outputs": [],
   "source": [
    "import matrix as m"
   ]
  },
  {
   "cell_type": "markdown",
   "metadata": {},
   "source": [
    "*Exercise 3:* Demonstrate the basic properties of matrices with your matrix class by creating two 2 by 2 example matrices using your Matrix class and illustrating the following:\n",
    "\n",
    "$$\n",
    "(AB)C=A(BC)\n",
    "$$\n",
    "$$\n",
    "A(B+C)=AB+AC\n",
    "$$\n",
    "$$\n",
    "AB\\neq BA\n",
    "$$\n",
    "$$\n",
    "AI=A\n",
    "$$"
   ]
  },
  {
   "cell_type": "code",
   "execution_count": 8,
   "metadata": {},
   "outputs": [
    {
     "name": "stdout",
     "output_type": "stream",
     "text": [
      "[[19, 22], [43, 50]]\n"
     ]
    }
   ],
   "source": [
    "# Solution here\n",
    "A = m.matrix([[1,2],[3,4]])\n",
    "B = m.matrix([[5,6],[7,8]])\n",
    "C = A.multiply(0, A.M,B.M)\n",
    "print C"
   ]
  },
  {
   "cell_type": "markdown",
   "metadata": {},
   "source": [
    "## Matrices with `numpy`\n",
    "`numpy` is very well [documented](https://docs.scipy.org/doc/numpy/reference/index.html). You can find a list of linear algebra operations in `numpy` [here](https://docs.scipy.org/doc/numpy/reference/routines.linalg.html). A more general and detailed description of linear algebra with `numpy` and `scipy` (which implements same routines) can be found [here](https://docs.scipy.org/doc/scipy/reference/tutorial/linalg.html).\n"
   ]
  },
  {
   "cell_type": "code",
   "execution_count": 9,
   "metadata": {},
   "outputs": [
    {
     "name": "stdout",
     "output_type": "stream",
     "text": [
      "A:\n",
      "[[ 4.  5.]\n",
      " [-2. -1.]]\n",
      "y\n",
      "[12.  2.]\n",
      "Inverse of A:\n",
      "[[-0.16666667 -0.83333333]\n",
      " [ 0.33333333  0.66666667]]\n",
      "A * A_inverse:\n",
      "[[ 1.00000000e+00  1.11022302e-16]\n",
      " [-5.55111512e-17  1.00000000e+00]]\n",
      "Identity:\n",
      "[[1. 0.]\n",
      " [0. 1.]]\n",
      "Solution: x=\n",
      "[-3.66666667  5.33333333]\n",
      "Check solution: Ax=\n",
      "[12.  2.]\n",
      "[ True False]\n"
     ]
    }
   ],
   "source": [
    "import numpy as np\n",
    "\n",
    "A = np.array([[4.,5.],[-2.,-1.]])\n",
    "y = np.array([12.,2.])\n",
    "\n",
    "print \"A:\"\n",
    "print A\n",
    "print \"y\"\n",
    "print y\n",
    "\n",
    "A_inv=np.linalg.inv(A)\n",
    "\n",
    "print \"Inverse of A:\"\n",
    "print A_inv\n",
    "\n",
    "print \"A * A_inverse:\"\n",
    "print np.matmul(A,A_inv)\n",
    "\n",
    "print \"Identity:\"\n",
    "print np.eye(*A.shape)\n",
    "\n",
    "x= np.matmul(A_inv,y)\n",
    "\n",
    "print \"Solution: x=\"\n",
    "print x\n",
    "\n",
    "print \"Check solution: Ax=\"\n",
    "print np.matmul(A,x)\n",
    "print y==np.matmul(A,x)"
   ]
  },
  {
   "cell_type": "markdown",
   "metadata": {},
   "source": [
    "*Exercise 3:* Following the numpy example above, demonstrate that your matrix class reproduces the functionality of numpy. If you were unable to implement the inverse method you may use numpy's inverse. Note that the syntax for your matrix module may be different than numpy. "
   ]
  },
  {
   "cell_type": "code",
   "execution_count": 10,
   "metadata": {},
   "outputs": [
    {
     "name": "stdout",
     "output_type": "stream",
     "text": [
      "A:\n",
      "[[4.0, 5.0], [-2.0, -1.0]]\n",
      "y:\n",
      "[[12.0, 2.0]]\n",
      "Inverse of A:\n",
      "[[-0.16666666666666666, -0.8333333333333334], [0.3333333333333333, 0.6666666666666666]]\n",
      "A * A_inverse:\n",
      "[[0.9999999999999999, -4.440892098500626e-16], [0.0, 1.0]]\n",
      "Identity:\n",
      "[[1, 0, 0], [0, 1, 0], [0, 0, 1]]\n",
      "Solution: x=\n",
      "Check solution: Ax=\n"
     ]
    },
    {
     "ename": "AttributeError",
     "evalue": "matrix instance has no attribute '__len__'",
     "output_type": "error",
     "traceback": [
      "\u001b[0;31m\u001b[0m",
      "\u001b[0;31mAttributeError\u001b[0mTraceback (most recent call last)",
      "\u001b[0;32m<ipython-input-10-1046c52606a3>\u001b[0m in \u001b[0;36m<module>\u001b[0;34m()\u001b[0m\n\u001b[1;32m     21\u001b[0m \u001b[0;32mprint\u001b[0m \u001b[0;34m\"Solution: x=\"\u001b[0m\u001b[0;34m\u001b[0m\u001b[0m\n\u001b[1;32m     22\u001b[0m \u001b[0;32mprint\u001b[0m \u001b[0;34m\"Check solution: Ax=\"\u001b[0m\u001b[0;34m\u001b[0m\u001b[0m\n\u001b[0;32m---> 23\u001b[0;31m \u001b[0;32mprint\u001b[0m \u001b[0mA\u001b[0m\u001b[0;34m.\u001b[0m\u001b[0mmultiply\u001b[0m\u001b[0;34m(\u001b[0m\u001b[0;36m0\u001b[0m\u001b[0;34m,\u001b[0m\u001b[0mA\u001b[0m\u001b[0;34m,\u001b[0m\u001b[0mx\u001b[0m\u001b[0;34m)\u001b[0m\u001b[0;34m\u001b[0m\u001b[0m\n\u001b[0m\u001b[1;32m     24\u001b[0m \u001b[0;32mprint\u001b[0m \u001b[0my\u001b[0m\u001b[0;34m==\u001b[0m\u001b[0mA\u001b[0m\u001b[0;34m.\u001b[0m\u001b[0mmultiply\u001b[0m\u001b[0;34m(\u001b[0m\u001b[0;36m0\u001b[0m\u001b[0;34m,\u001b[0m\u001b[0mA\u001b[0m\u001b[0;34m,\u001b[0m\u001b[0mx\u001b[0m\u001b[0;34m)\u001b[0m\u001b[0;34m\u001b[0m\u001b[0m\n",
      "\u001b[0;32m/home1/06206/psevery/Solutions/DATA1401-Spring-2019/Labs/Lab-5/matrix.py\u001b[0m in \u001b[0;36mmultiply\u001b[0;34m(self, c, m, n)\u001b[0m\n\u001b[1;32m    185\u001b[0m             \u001b[0;31m#perform matrix multiplication\u001b[0m\u001b[0;34m\u001b[0m\u001b[0;34m\u001b[0m\u001b[0m\n\u001b[1;32m    186\u001b[0m             \u001b[0mout\u001b[0m \u001b[0;34m=\u001b[0m \u001b[0;34m[\u001b[0m\u001b[0;34m]\u001b[0m\u001b[0;34m\u001b[0m\u001b[0m\n\u001b[0;32m--> 187\u001b[0;31m             \u001b[0;32mfor\u001b[0m \u001b[0mi\u001b[0m \u001b[0;32min\u001b[0m \u001b[0mrange\u001b[0m\u001b[0;34m(\u001b[0m\u001b[0;36m0\u001b[0m\u001b[0;34m,\u001b[0m\u001b[0mlen\u001b[0m\u001b[0;34m(\u001b[0m\u001b[0mm\u001b[0m\u001b[0;34m)\u001b[0m\u001b[0;34m)\u001b[0m\u001b[0;34m:\u001b[0m\u001b[0;34m\u001b[0m\u001b[0m\n\u001b[0m\u001b[1;32m    188\u001b[0m                 \u001b[0mtemp\u001b[0m\u001b[0;34m=\u001b[0m\u001b[0;34m[\u001b[0m\u001b[0;34m]\u001b[0m\u001b[0;34m\u001b[0m\u001b[0m\n\u001b[1;32m    189\u001b[0m                 \u001b[0;32mfor\u001b[0m \u001b[0mj\u001b[0m \u001b[0;32min\u001b[0m \u001b[0mrange\u001b[0m\u001b[0;34m(\u001b[0m\u001b[0;36m0\u001b[0m\u001b[0;34m,\u001b[0m\u001b[0mlen\u001b[0m\u001b[0;34m(\u001b[0m\u001b[0mn\u001b[0m\u001b[0;34m[\u001b[0m\u001b[0;36m0\u001b[0m\u001b[0;34m]\u001b[0m\u001b[0;34m)\u001b[0m\u001b[0;34m)\u001b[0m\u001b[0;34m:\u001b[0m\u001b[0;34m\u001b[0m\u001b[0m\n",
      "\u001b[0;31mAttributeError\u001b[0m: matrix instance has no attribute '__len__'"
     ]
    }
   ],
   "source": [
    "# Solution here\n",
    "A = m.matrix([[4.0,5.0],[-2.0,-1.0]])\n",
    "print \"A:\"\n",
    "print A.M\n",
    "y = m.matrix([[12.0,2.0]])\n",
    "print \"y:\"\n",
    "print y.M\n",
    "#part 6a test\n",
    "A_1 = [[4.0,5.0],[-2.0,-1.0]]\n",
    "A_inv = m.inv(A_1)\n",
    "print \"Inverse of A:\"\n",
    "print A_inv\n",
    "B = A.multiply(0,A.M,A_inv)\n",
    "print \"A * A_inverse:\"\n",
    "print B\n",
    "print \"Identity:\"\n",
    "C = m.matrix([[1,2,3],[4,5,6],[7,8,9]])\n",
    "C.eye(3)\n",
    "print C.M\n",
    "#x = A.multiply(0,A_inv,y.M)\n",
    "print \"Solution: x=\"\n",
    "print \"Check solution: Ax=\"\n",
    "print A.multiply(0,A,x)\n",
    "print y==A.multiply(0,A,x)"
   ]
  },
  {
   "cell_type": "markdown",
   "metadata": {},
   "source": [
    "## Matrix Elements\n",
    "Consider an arbitrary matrix $A$:\n",
    "\n",
    "\\begin{equation*}\n",
    "A_{m,n} = \n",
    " \\begin{pmatrix}\n",
    "  a_{11} & a_{12} & \\cdots & a_{1n} \\\\\n",
    "  a_{21} & a_{22} & \\cdots & a_{2n} \\\\\n",
    "  \\vdots  & \\vdots  & \\ddots & \\vdots\\\\\n",
    "  a_{m1} & a_{m2} & \\cdots & a_{mn} \n",
    "\\end{pmatrix}\n",
    "\\end{equation*}\n",
    "\n",
    "we define the columns as $a_j=A_{:,j}$:\n",
    "\n",
    "\\begin{pmatrix} \n",
    "| & | &  &|\\\\\n",
    "a_1 & a_2 & \\dots &\\ a_n\\\\\n",
    "| & | &  &|\n",
    "\\end{pmatrix}\n",
    "\n",
    "and rows $a^T_i = A_{i,:}$:\n",
    "\n",
    "\\begin{pmatrix} \n",
    "- & a^T_1 & -\\\\\n",
    "- & a^T_2 & -\\\\\n",
    " & \\vdots & \\\\\n",
    "- & a^T_3 & -\\\\\n",
    "\\end{pmatrix}\n",
    "\n",
    "or in `numpy`:\n"
   ]
  },
  {
   "cell_type": "code",
   "execution_count": 5,
   "metadata": {},
   "outputs": [
    {
     "name": "stdout",
     "output_type": "stream",
     "text": [
      "A:\n",
      "[[0.37162161 0.62686483 0.6604328  0.68986722 0.02265392]\n",
      " [0.03827172 0.83293165 0.15043744 0.53225671 0.86838319]\n",
      " [0.86948282 0.76372126 0.87782755 0.6055476  0.32045965]\n",
      " [0.0755275  0.74186801 0.57423427 0.30331234 0.26476107]\n",
      " [0.48321419 0.74438327 0.52973804 0.41855358 0.10180178]\n",
      " [0.23219364 0.01029789 0.95746702 0.86013673 0.84312292]\n",
      " [0.06140912 0.36084964 0.0520653  0.99569642 0.28844985]\n",
      " [0.09176727 0.18243281 0.34929412 0.48583304 0.11193068]\n",
      " [0.47483243 0.22859803 0.19221547 0.55898157 0.67004238]\n",
      " [0.47855872 0.28646733 0.45844861 0.41602325 0.87415319]]\n",
      "A shape: (10, 5)\n",
      "A columns:\n",
      "[0.37162161 0.03827172 0.86948282 0.0755275  0.48321419 0.23219364\n",
      " 0.06140912 0.09176727 0.47483243 0.47855872]\n",
      "[0.62686483 0.83293165 0.76372126 0.74186801 0.74438327 0.01029789\n",
      " 0.36084964 0.18243281 0.22859803 0.28646733]\n",
      "[0.6604328  0.15043744 0.87782755 0.57423427 0.52973804 0.95746702\n",
      " 0.0520653  0.34929412 0.19221547 0.45844861]\n",
      "[0.68986722 0.53225671 0.6055476  0.30331234 0.41855358 0.86013673\n",
      " 0.99569642 0.48583304 0.55898157 0.41602325]\n",
      "[0.02265392 0.86838319 0.32045965 0.26476107 0.10180178 0.84312292\n",
      " 0.28844985 0.11193068 0.67004238 0.87415319]\n",
      "A rows:\n",
      "[0.37162161 0.62686483 0.6604328  0.68986722 0.02265392]\n",
      "[0.03827172 0.83293165 0.15043744 0.53225671 0.86838319]\n",
      "[0.86948282 0.76372126 0.87782755 0.6055476  0.32045965]\n",
      "[0.0755275  0.74186801 0.57423427 0.30331234 0.26476107]\n",
      "[0.48321419 0.74438327 0.52973804 0.41855358 0.10180178]\n",
      "[0.23219364 0.01029789 0.95746702 0.86013673 0.84312292]\n",
      "[0.06140912 0.36084964 0.0520653  0.99569642 0.28844985]\n",
      "[0.09176727 0.18243281 0.34929412 0.48583304 0.11193068]\n",
      "[0.47483243 0.22859803 0.19221547 0.55898157 0.67004238]\n",
      "[0.47855872 0.28646733 0.45844861 0.41602325 0.87415319]\n"
     ]
    }
   ],
   "source": [
    "# Make a random matrix\n",
    "A = np.random.rand(10,5)\n",
    "\n",
    "print \"A:\"\n",
    "print A\n",
    "print \"A shape:\", A.shape\n",
    "\n",
    "print \"A columns:\"\n",
    "for i in range(A.shape[1]):\n",
    "    print A[:,i]\n",
    "\n",
    "print \"A rows:\"\n",
    "for j in range(A.shape[0]):\n",
    "    print A[j,:]\n",
    "    # Note you can also use A[j]"
   ]
  },
  {
   "cell_type": "markdown",
   "metadata": {},
   "source": [
    "*Exercise 4:* Add a new random feature to your matrix library and demonstrate the same numpy functionality as above. For a bit of extra credit, implement slicing in your override of `__getitem__` method in your matrix class."
   ]
  },
  {
   "cell_type": "code",
   "execution_count": 11,
   "metadata": {},
   "outputs": [
    {
     "name": "stdout",
     "output_type": "stream",
     "text": [
      "[[5, 10, 10], [8, 3, 2], [10, 3, 1]]\n",
      "A shape:\n",
      "[3, 3]\n",
      "A columns:\n",
      "[5, 8, 10]\n",
      "[10, 3, 3]\n",
      "[10, 2, 1]\n",
      "A rows:\n",
      "[10, 3, 1]\n",
      "[10, 3, 1]\n",
      "[10, 3, 1]\n"
     ]
    }
   ],
   "source": [
    "# Solution here\n",
    "\n",
    "#\"part 3a test:\"\n",
    "A = m.matrix()\n",
    "A.randomMatrix(3,3)\n",
    "print A.M\n",
    "s = A.shape()\n",
    "print \"A shape:\"\n",
    "print s\n",
    "print \"A columns:\"\n",
    "for i in range(0,s[0]):\n",
    "    print A.column(i)\n",
    "print \"A rows:\"\n",
    "for j in range(0,s[1]):\n",
    "    print A.row(i)"
   ]
  },
  {
   "cell_type": "markdown",
   "metadata": {},
   "source": [
    "# Matrix Operations\n",
    "\n",
    "* Transpose: $(A^T)_{ij} = A_{ji}$\n",
    "* Sum (elementwise): $C_{ij} = A_{ij} + B_{ij}$\n",
    "* Elementwise product: $C_{ij} = A_{ij} B_{ij}$\n",
    "* Matrix product: $C=A \\cdot B$: $C_{ij} = \\sum_{k} A_{ik} B_{kj}$.\n",
    "   * Note than if size of $A$ is $n \\times m$ then $B$ has to be of size $m \\times k$ and the resulting matrix will be of size $n \\times k$.\n",
    "   * Good way to visualize product:\n",
    "    \\begin{equation*}\n",
    "    AB=\n",
    "\\begin{pmatrix} \n",
    "- & a_1 & -\\\\\n",
    "- & a_2 & -\\\\\n",
    " & \\vdots & \\\\\n",
    "- & a_m & -\\\\\n",
    "\\end{pmatrix} \n",
    "\\begin{pmatrix} \n",
    "| & | &  &|\\\\\n",
    "b_1 & b_2 & \\dots &\\ b_n\\\\\n",
    "| & | &  &|\n",
    "\\end{pmatrix}=\n",
    "\\begin{pmatrix}\n",
    "a^T_1b_1 & a^T_1b_2 & \\dots & a^T_1b_n\\\\\n",
    "a^T_2b_1 & a^T_2b_2 & \\dots & a^T_2b_n\\\\\n",
    "\\vdots & \\vdots & \\ddots & \\vdots \\\\\n",
    "a^T_mb_1 & a^T_mb_2 & \\dots & a^T_mb_n\n",
    "\\end{pmatrix}\n",
    "\\end{equation*}"
   ]
  },
  {
   "cell_type": "code",
   "execution_count": 12,
   "metadata": {},
   "outputs": [
    {
     "name": "stdout",
     "output_type": "stream",
     "text": [
      "A:\n",
      "[[0.68922729 0.33723079 0.47897112 0.65675381]\n",
      " [0.18164619 0.9144682  0.20577172 0.82001581]\n",
      " [0.85834957 0.73587446 0.65866302 0.96320001]\n",
      " [0.18947055 0.72249814 0.07528913 0.04676028]\n",
      " [0.91376993 0.76683839 0.62674436 0.84784128]]\n",
      "A Transpose:\n",
      "[[0.68922729 0.18164619 0.85834957 0.18947055 0.91376993]\n",
      " [0.33723079 0.9144682  0.73587446 0.72249814 0.76683839]\n",
      " [0.47897112 0.20577172 0.65866302 0.07528913 0.62674436]\n",
      " [0.65675381 0.82001581 0.96320001 0.04676028 0.84784128]]\n",
      "B: [[0.34864704 0.35231216 0.57802476 0.80034068]\n",
      " [0.06249555 0.08329588 0.95634084 0.18452369]\n",
      " [0.78626649 0.57556544 0.20226972 0.29311131]\n",
      " [0.68099193 0.1706181  0.27767216 0.17362894]\n",
      " [0.94579546 0.28734414 0.87331856 0.47861538]]\n",
      "A+B:\n",
      "[[1.03787433 0.68954295 1.05699588 1.45709449]\n",
      " [0.24414174 0.99776408 1.16211255 1.0045395 ]\n",
      " [1.64461606 1.3114399  0.86093274 1.25631132]\n",
      " [0.87046248 0.89311624 0.3529613  0.22038922]\n",
      " [1.8595654  1.05418253 1.50006293 1.32645666]]\n",
      "A*B:\n",
      "[[0.24029705 0.11881051 0.27685717 0.52562679]\n",
      " [0.01135208 0.07617143 0.19678789 0.15131235]\n",
      " [0.6748915  0.42354391 0.13322758 0.28232482]\n",
      " [0.12902792 0.12327126 0.0209057  0.00811894]\n",
      " [0.86423946 0.22034652 0.54734749 0.40578988]]\n",
      "Matrix Multiply: A (dot) B1:\n",
      "[[0.43470389 1.55411836 1.32326962 1.5008352  1.5040261 ]\n",
      " [0.68418557 1.39448484 1.05533252 1.27205227 1.54974067]\n",
      " [0.75704468 2.2351532  1.83579279 2.20361224 2.27064698]\n",
      " [0.44095552 0.51679948 0.33838486 0.78112123 0.72836822]\n",
      " [0.75144378 2.1606446  1.78423984 2.20974194 2.20583054]]\n"
     ]
    }
   ],
   "source": [
    "A = np.random.rand(5,4) \n",
    "print \"A:\"\n",
    "print A\n",
    "\n",
    "print \"A Transpose:\"\n",
    "print A.transpose()\n",
    "\n",
    "B = np.random.rand(5,4) \n",
    "print \"B:\",\n",
    "print B\n",
    "\n",
    "print \"A+B:\"\n",
    "print A+B\n",
    "\n",
    "print \"A*B:\"\n",
    "print A*B\n",
    "\n",
    "# For Matrix Multiply we need correct size B\n",
    "B1 = np.random.rand(4,5) \n",
    "\n",
    "print \"Matrix Multiply: A (dot) B1:\"\n",
    "print np.matmul(A,B1)"
   ]
  },
  {
   "cell_type": "markdown",
   "metadata": {},
   "source": [
    "*Exercise 5:* Demonstrate basic matrix operations above with your matrix library."
   ]
  },
  {
   "cell_type": "code",
   "execution_count": 13,
   "metadata": {},
   "outputs": [
    {
     "name": "stdout",
     "output_type": "stream",
     "text": [
      "C:\n",
      "[[6, 7, 9, 2, 2], [4, 10, 1, 2, 5], [1, 2, 10, 4, 4], [1, 9, 10, 10, 7]]\n",
      "C Transpose:\n",
      "[[6, 4, 1, 1], [7, 10, 2, 9], [9, 1, 10, 10], [2, 2, 4, 10], [2, 5, 4, 7]]\n",
      "A:\n",
      "[[7, 4, 9, 8, 2], [5, 8, 5, 10, 7], [5, 4, 4, 7, 4], [10, 7, 3, 1, 9]]\n",
      "[[5, 2, 8, 10, 6], [1, 9, 9, 4, 2], [6, 3, 9, 4, 5], [9, 2, 9, 7, 1]]\n",
      "A+B:\n",
      "[[12, 6, 17, 18, 8], [6, 17, 14, 14, 9], [11, 7, 13, 11, 9], [19, 9, 12, 8, 10]]\n",
      "A*B:\n"
     ]
    },
    {
     "ename": "IndexError",
     "evalue": "list index out of range",
     "output_type": "error",
     "traceback": [
      "\u001b[0;31m\u001b[0m",
      "\u001b[0;31mIndexError\u001b[0mTraceback (most recent call last)",
      "\u001b[0;32m<ipython-input-13-47bd31fa4323>\u001b[0m in \u001b[0;36m<module>\u001b[0;34m()\u001b[0m\n\u001b[1;32m     19\u001b[0m \u001b[0;32mprint\u001b[0m \u001b[0mR_1\u001b[0m\u001b[0;34m.\u001b[0m\u001b[0mM\u001b[0m\u001b[0;34m\u001b[0m\u001b[0m\n\u001b[1;32m     20\u001b[0m \u001b[0;32mprint\u001b[0m \u001b[0;34m\"A*B:\"\u001b[0m\u001b[0;34m\u001b[0m\u001b[0m\n\u001b[0;32m---> 21\u001b[0;31m \u001b[0mR_2\u001b[0m \u001b[0;34m=\u001b[0m \u001b[0mA\u001b[0m\u001b[0;34m.\u001b[0m\u001b[0mmultiply\u001b[0m\u001b[0;34m(\u001b[0m\u001b[0;36m0\u001b[0m\u001b[0;34m,\u001b[0m \u001b[0mA\u001b[0m\u001b[0;34m.\u001b[0m\u001b[0mM\u001b[0m\u001b[0;34m,\u001b[0m\u001b[0mB\u001b[0m\u001b[0;34m.\u001b[0m\u001b[0mM\u001b[0m\u001b[0;34m)\u001b[0m\u001b[0;34m\u001b[0m\u001b[0m\n\u001b[0m\u001b[1;32m     22\u001b[0m \u001b[0;32mprint\u001b[0m \u001b[0mR_2\u001b[0m\u001b[0;34m.\u001b[0m\u001b[0mM\u001b[0m\u001b[0;34m\u001b[0m\u001b[0m\n\u001b[1;32m     23\u001b[0m \u001b[0mB_1\u001b[0m \u001b[0;34m=\u001b[0m \u001b[0mm\u001b[0m\u001b[0;34m.\u001b[0m\u001b[0mmatrix\u001b[0m\u001b[0;34m(\u001b[0m\u001b[0;34m)\u001b[0m\u001b[0;34m\u001b[0m\u001b[0m\n",
      "\u001b[0;32m/home1/06206/psevery/Solutions/DATA1401-Spring-2019/Labs/Lab-5/matrix.py\u001b[0m in \u001b[0;36mmultiply\u001b[0;34m(self, c, m, n)\u001b[0m\n\u001b[1;32m    190\u001b[0m                     \u001b[0msum1\u001b[0m \u001b[0;34m=\u001b[0m \u001b[0;36m0\u001b[0m\u001b[0;34m\u001b[0m\u001b[0m\n\u001b[1;32m    191\u001b[0m                     \u001b[0;32mfor\u001b[0m \u001b[0mk\u001b[0m \u001b[0;32min\u001b[0m \u001b[0mrange\u001b[0m\u001b[0;34m(\u001b[0m\u001b[0;36m0\u001b[0m\u001b[0;34m,\u001b[0m\u001b[0mlen\u001b[0m\u001b[0;34m(\u001b[0m\u001b[0mm\u001b[0m\u001b[0;34m[\u001b[0m\u001b[0;36m0\u001b[0m\u001b[0;34m]\u001b[0m\u001b[0;34m)\u001b[0m\u001b[0;34m)\u001b[0m\u001b[0;34m:\u001b[0m\u001b[0;34m\u001b[0m\u001b[0m\n\u001b[0;32m--> 192\u001b[0;31m                         \u001b[0msum1\u001b[0m \u001b[0;34m+=\u001b[0m \u001b[0mm\u001b[0m\u001b[0;34m[\u001b[0m\u001b[0mi\u001b[0m\u001b[0;34m]\u001b[0m\u001b[0;34m[\u001b[0m\u001b[0mk\u001b[0m\u001b[0;34m]\u001b[0m\u001b[0;34m*\u001b[0m\u001b[0mn\u001b[0m\u001b[0;34m[\u001b[0m\u001b[0mk\u001b[0m\u001b[0;34m]\u001b[0m\u001b[0;34m[\u001b[0m\u001b[0mj\u001b[0m\u001b[0;34m]\u001b[0m\u001b[0;34m\u001b[0m\u001b[0m\n\u001b[0m\u001b[1;32m    193\u001b[0m                     \u001b[0mtemp\u001b[0m\u001b[0;34m.\u001b[0m\u001b[0mappend\u001b[0m\u001b[0;34m(\u001b[0m\u001b[0msum1\u001b[0m\u001b[0;34m)\u001b[0m\u001b[0;34m\u001b[0m\u001b[0m\n\u001b[1;32m    194\u001b[0m                 \u001b[0mout\u001b[0m\u001b[0;34m.\u001b[0m\u001b[0mappend\u001b[0m\u001b[0;34m(\u001b[0m\u001b[0mtemp\u001b[0m\u001b[0;34m)\u001b[0m\u001b[0;34m\u001b[0m\u001b[0m\n",
      "\u001b[0;31mIndexError\u001b[0m: list index out of range"
     ]
    }
   ],
   "source": [
    "# Solution here\n",
    "#R means \"result\"\n",
    "C = m.matrix()\n",
    "C.randomMatrix(5,4)\n",
    "print \"C:\"\n",
    "print C.M\n",
    "C.transpose()\n",
    "print \"C Transpose:\"\n",
    "print C.M\n",
    "A = m.matrix()\n",
    "A.randomMatrix(5,4)\n",
    "print \"A:\"\n",
    "print A.M\n",
    "B = m.matrix()\n",
    "B.randomMatrix(5,4)\n",
    "print B.M\n",
    "print \"A+B:\"\n",
    "R_1 = A.add(B)\n",
    "print R_1.M\n",
    "print \"A*B:\"\n",
    "R_2 = A.multiply(0, A.M,B.M)\n",
    "print R_2.M\n",
    "B_1 = m.matrix()\n",
    "B_1.randomMatrix(4,5)\n",
    "print B_1.M\n",
    "print \"Matrix Multiply: A (dot) B1:\"\n",
    "R_3 = A.multiply(0, A.M,B_1.M)\n",
    "print R_3.M"
   ]
  },
  {
   "cell_type": "markdown",
   "metadata": {},
   "source": [
    "## Vector Products\n",
    "\n",
    "* Dot product: $x\\cdot y = x^T y = \\sum_{i=1}^n x_i y_i$\n",
    "* Other product: \n",
    "\\begin{equation*}\n",
    "\\begin{pmatrix} x_1\\\\x_2\\\\ \\vdots \\\\x_m \\end{pmatrix} \\begin{pmatrix} y_1&y_2& \\dots &y_n\\end{pmatrix} =\n",
    "\\begin{pmatrix}\n",
    "x_1y_1 & x_1y_2 & \\dots & x_1y_n\\\\\n",
    "x_2y_1 & x_2y_2 & \\dots & x_2y_n\\\\\n",
    "\\vdots & \\vdots & \\ddots & \\vdots \\\\\n",
    "x_my_1 & x_my_2 & \\dots & x_my_n\n",
    "\\end{pmatrix}\n",
    "\\end{equation*}\n",
    "\n",
    "In `numpy`:"
   ]
  },
  {
   "cell_type": "code",
   "execution_count": 14,
   "metadata": {},
   "outputs": [
    {
     "name": "stdout",
     "output_type": "stream",
     "text": [
      "x (dot) y:\n",
      "32\n",
      "Outer product:\n",
      "[[ 4  5  6]\n",
      " [ 8 10 12]\n",
      " [12 15 18]]\n"
     ]
    }
   ],
   "source": [
    "x=np.array([1,2,3])\n",
    "y=np.array([4,5,6])\n",
    "\n",
    "print \"x (dot) y:\"\n",
    "print np.dot(x,y)\n",
    "\n",
    "print \"Outer product:\"\n",
    "print np.outer(x,y)"
   ]
  },
  {
   "cell_type": "markdown",
   "metadata": {},
   "source": [
    "*Exercise 6:* Demonstrate vector product operations above with your matrix library."
   ]
  },
  {
   "cell_type": "code",
   "execution_count": 15,
   "metadata": {},
   "outputs": [
    {
     "name": "stdout",
     "output_type": "stream",
     "text": [
      "x (dot) y:\n",
      "32\n",
      "Outer product:\n",
      "[[26, 15, 22, 14], [32, 18, 28, 20], [38, 21, 34, 26], [44, 24, 40, 32]]\n"
     ]
    }
   ],
   "source": [
    "# Solution here\n",
    "V = m.vector()\n",
    "A = [1,2,3]\n",
    "B = [4,5,6]\n",
    "c = V.dot(A,B)\n",
    "print \"x (dot) y:\"\n",
    "print c\n",
    "\n",
    "print \"Outer product:\"\n",
    "A = m.matrix([[1,2,3,4],[5,6,7,8]])\n",
    "B = [[1,0,2,4],[5,3,4,2]]\n",
    "C = A.outer(B)\n",
    "print C"
   ]
  },
  {
   "cell_type": "markdown",
   "metadata": {},
   "source": [
    "## Norms\n",
    "* $l=1$ Norm: $\\parallel x \\parallel_1 = \\sum_{i=1}^{n}|x_i|$\n",
    "* $l=2$ Norm: $\\parallel x \\parallel_2 = \\sqrt{\\sum_{i=1}^{n}x_i^2}$\n",
    "* $l=p$ Norm: $\\parallel x \\parallel_p = \\left(\\sum_{i=1}^{n}x_i^p\\right)^\\frac{1}{p}$\n",
    "* $l=\\infty$ Norm: $\\parallel x \\parallel_\\infty = \\max_i |x_i|$\n",
    "* Law of cosines: $x \\cdot y = $\\parallel x \\parallel_2 $\\parallel y \\parallel_2 \\cos{\\theta}$\n",
    "\n",
    "In `numpy`:"
   ]
  },
  {
   "cell_type": "code",
   "execution_count": 16,
   "metadata": {},
   "outputs": [
    {
     "name": "stdout",
     "output_type": "stream",
     "text": [
      "0 3.0\n",
      "1 6.0\n",
      "2 3.7416573867739413\n",
      "3 3.3019272488946263\n",
      "4 3.1463462836457885\n",
      "5 3.077384885394063\n",
      "6 3.043010262919305\n",
      "7 3.0246626009458444\n",
      "8 3.014443335890572\n",
      "9 3.0085886861624296\n"
     ]
    }
   ],
   "source": [
    "x=[1,2,3]\n",
    "for i in range(10):\n",
    "    print i,np.linalg.norm(x,i)"
   ]
  },
  {
   "cell_type": "markdown",
   "metadata": {},
   "source": [
    "*Exercise 7:* Test the norm implementationth your matrix library."
   ]
  },
  {
   "cell_type": "code",
   "execution_count": 17,
   "metadata": {},
   "outputs": [
    {
     "name": "stdout",
     "output_type": "stream",
     "text": [
      "1 6.0\n",
      "2 3.74165738677\n",
      "3 3.30192724889\n",
      "4 3.14634628365\n",
      "5 3.07738488539\n",
      "6 3.04301026292\n",
      "7 3.02466260095\n",
      "8 3.01444333589\n",
      "9 3.00858868616\n"
     ]
    }
   ],
   "source": [
    "# Solution here\n",
    "V = m.vector()\n",
    "A = [1,2,3]\n",
    "for p in range(1,10):\n",
    "    c = V.norm(A,3,p)\n",
    "    print p,c"
   ]
  },
  {
   "cell_type": "code",
   "execution_count": null,
   "metadata": {},
   "outputs": [],
   "source": []
  }
 ],
 "metadata": {
  "kernelspec": {
   "display_name": "Python 2",
   "language": "python",
   "name": "python2"
  },
  "language_info": {
   "codemirror_mode": {
    "name": "ipython",
    "version": 2
   },
   "file_extension": ".py",
   "mimetype": "text/x-python",
   "name": "python",
   "nbconvert_exporter": "python",
   "pygments_lexer": "ipython2",
   "version": "2.7.15"
  }
 },
 "nbformat": 4,
 "nbformat_minor": 2
}
