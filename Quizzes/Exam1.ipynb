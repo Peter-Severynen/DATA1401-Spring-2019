{
 "cells": [
  {
   "cell_type": "code",
   "execution_count": 39,
   "metadata": {
    "collapsed": true
   },
   "outputs": [],
   "source": [
    "#part 2a functions\n",
    "def constant(n,m,c):\n",
    "    a = []\n",
    "    for i in range(m):\n",
    "        a.append([])\n",
    "        for j in range(n):\n",
    "             a[i].append(c)\n",
    "    return a"
   ]
  },
  {
   "cell_type": "code",
   "execution_count": 40,
   "metadata": {},
   "outputs": [
    {
     "name": "stdout",
     "output_type": "stream",
     "text": [
      "[[0, 0, 0], [0, 0, 0]]\n"
     ]
    }
   ],
   "source": [
    "#part 2a test\n",
    "out = constant(3,2,0)\n",
    "print out"
   ]
  },
  {
   "cell_type": "code",
   "execution_count": 41,
   "metadata": {
    "collapsed": true
   },
   "outputs": [],
   "source": [
    "#part 2b functions\n",
    "def zeros(n,m):\n",
    "    out = constant(n,m,0)\n",
    "    return out\n",
    "\n",
    "def ones(n,m):\n",
    "    out = constant(n,m,1)\n",
    "    return out"
   ]
  },
  {
   "cell_type": "code",
   "execution_count": 42,
   "metadata": {},
   "outputs": [
    {
     "name": "stdout",
     "output_type": "stream",
     "text": [
      "[[0, 0, 0], [0, 0, 0], [0, 0, 0]]\n",
      "[[1, 1, 1, 1, 1], [1, 1, 1, 1, 1], [1, 1, 1, 1, 1], [1, 1, 1, 1, 1]]\n"
     ]
    }
   ],
   "source": [
    "#part 2b test\n",
    "z = zeros(3,3)\n",
    "print z\n",
    "\n",
    "o = ones(5,4)\n",
    "print o"
   ]
  },
  {
   "cell_type": "code",
   "execution_count": 43,
   "metadata": {
    "collapsed": true
   },
   "outputs": [],
   "source": [
    "#part 2c functions\n",
    "def eye(n):\n",
    "    a = []\n",
    "    for i in range(n):\n",
    "        a.append([])\n",
    "        for j in range(n):\n",
    "            if(i==j):\n",
    "                a[i].append(1)\n",
    "            else:\n",
    "                a[i].append(0)\n",
    "    return a"
   ]
  },
  {
   "cell_type": "code",
   "execution_count": 44,
   "metadata": {},
   "outputs": [
    {
     "name": "stdout",
     "output_type": "stream",
     "text": [
      "[[1, 0, 0], [0, 1, 0], [0, 0, 1]]\n"
     ]
    }
   ],
   "source": [
    "#part 2c test\n",
    "out = eye(3)\n",
    "print out"
   ]
  },
  {
   "cell_type": "code",
   "execution_count": 45,
   "metadata": {
    "collapsed": true
   },
   "outputs": [],
   "source": [
    "#part 3a functions\n",
    "def shape(M):\n",
    "    size = []\n",
    "    ctr = 0 #if shape finds a row that has the wrong number of columns, then it increments the invalid count\n",
    "    m = len(M)\n",
    "    n = len(M[0])\n",
    "    for i in range(0,len(M)):\n",
    "        if len(M[i]) != n:\n",
    "            ctr+=1\n",
    "    if ctr > 0:\n",
    "        return False\n",
    "    else:\n",
    "        size.append(n)\n",
    "        size.append(m)\n",
    "        return size"
   ]
  },
  {
   "cell_type": "code",
   "execution_count": 46,
   "metadata": {},
   "outputs": [
    {
     "name": "stdout",
     "output_type": "stream",
     "text": [
      "[3, 2]\n",
      "False\n"
     ]
    }
   ],
   "source": [
    "#part 3a test\n",
    "A = constant(3,2,1)\n",
    "out_1 = shape(A)\n",
    "print out_1\n",
    "B = [[3,2,1],[1,2],[3,3,3]]\n",
    "out_2 = shape(B)\n",
    "print out_2"
   ]
  },
  {
   "cell_type": "code",
   "execution_count": 47,
   "metadata": {
    "collapsed": true
   },
   "outputs": [],
   "source": [
    "#part 3b functions\n",
    "def row(M,n):\n",
    "    out = []\n",
    "    dim = shape(M)\n",
    "    col = dim[0]\n",
    "    row = dim[1]\n",
    "    if n > row:\n",
    "        print \"Row index is out-of-bounds!\"\n",
    "        out.append(None)\n",
    "    else:\n",
    "        out = M[n]\n",
    "    return out\n",
    "\n",
    "def column(M,n):\n",
    "    out = []\n",
    "    dim = shape(M)\n",
    "    col = dim[0]\n",
    "    row = dim[1]\n",
    "    if n > col:\n",
    "        print \"Column index is out-of-bounds!\"\n",
    "        out.append(None)\n",
    "    else:\n",
    "        for i in range(0,row):\n",
    "            for j in range(0,col):\n",
    "                if j == n:\n",
    "                    out.append(M[i][j])\n",
    "    return out"
   ]
  },
  {
   "cell_type": "code",
   "execution_count": 48,
   "metadata": {},
   "outputs": [
    {
     "name": "stdout",
     "output_type": "stream",
     "text": [
      "[4, 5, 6]\n",
      "Row index is out-of-bounds!\n",
      "[None]\n",
      "[3, 6, 9]\n",
      "Column index is out-of-bounds!\n",
      "[None]\n"
     ]
    }
   ],
   "source": [
    "#part 3b test\n",
    "A = [[1,2,3],[4,5,6],[7,8,9]]\n",
    "row_1 = row(A, 1)\n",
    "print row_1\n",
    "\n",
    "row_4 = row(A, 4)\n",
    "print row_4\n",
    "\n",
    "column_2 = column(A,2)\n",
    "print column_2\n",
    "\n",
    "column_4 = column(A,4)\n",
    "print column_4"
   ]
  },
  {
   "cell_type": "code",
   "execution_count": 75,
   "metadata": {
    "collapsed": true
   },
   "outputs": [],
   "source": [
    "#part 3c functions\n",
    "\n",
    "def mat_copy(l,n,m):\n",
    "    a = []\n",
    "    for i in range(n):\n",
    "        a.append([])\n",
    "        for j in range(m):\n",
    "                a[i].append(l[j]) #TODO fix bug\n",
    "    return a\n",
    "\n",
    "def block(M, n_0, n_1, m_0, m_1):\n",
    "    out_1 = []\n",
    "    out_2 = []\n",
    "    out_2_num_col = (n_1-n_0)+1 #the output matrix's number of columns\n",
    "    out_2_num_row = (m_1-m_0)+1 #the output matrix's number of rows\n",
    "    dim = shape(M)\n",
    "    print dim\n",
    "    col = dim[0]\n",
    "    row = dim[1]\n",
    "    if n_1 > col or m_1 > row:\n",
    "        print \"Column index is out-of-bounds!\"\n",
    "        out_1.append(None)\n",
    "    else:\n",
    "        for i in range(0,row):\n",
    "            for j in range(0,col):\n",
    "                if i >= m_0 and i <= m_1:\n",
    "                    if j >= n_0 and j <= n_1:\n",
    "                        #print i\n",
    "                        #print j\n",
    "                        #print M[i][j]\n",
    "                        out_1.append(M[i][j])\n",
    "    #out2.append(out1)\n",
    "    #out_2 = mat_copy(out_1, out_2_num_col, out_2_num_row)\n",
    "    #return out_2\n",
    "    return out_1"
   ]
  },
  {
   "cell_type": "code",
   "execution_count": 76,
   "metadata": {},
   "outputs": [
    {
     "name": "stdout",
     "output_type": "stream",
     "text": [
      "[3, 3]\n",
      "[1, 2, 4, 5]\n"
     ]
    }
   ],
   "source": [
    "#part 3c test\n",
    "\n",
    "#A = constant(10,10,1)\n",
    "#b = block(A, 1,2,1,2)\n",
    "B = [[1,2,3],[4,5,6],[7,8,9]]\n",
    "c = block(B, 0,1,0,1)\n",
    "print c"
   ]
  },
  {
   "cell_type": "code",
   "execution_count": 51,
   "metadata": {
    "collapsed": true
   },
   "outputs": [],
   "source": [
    "#part 4a functions\n",
    "def transpose(M):\n",
    "    out = []\n",
    "    out = [[M[j][i] for j in range(len(M))] for i in range(len(M[0]))]\n",
    "    return out"
   ]
  },
  {
   "cell_type": "code",
   "execution_count": 52,
   "metadata": {},
   "outputs": [
    {
     "name": "stdout",
     "output_type": "stream",
     "text": [
      "[[0, 2, 1], [1, 4, -1]]\n"
     ]
    }
   ],
   "source": [
    "#part 4a test\n",
    "A = [[0,1],[2,4],[1,-1]]\n",
    "A_T = transpose(A)\n",
    "print A_T"
   ]
  },
  {
   "cell_type": "code",
   "execution_count": 53,
   "metadata": {
    "collapsed": true
   },
   "outputs": [],
   "source": [
    "#part 4b functions\n",
    "def scalarmul(M,c):\n",
    "    out = []\n",
    "    out_2 = []\n",
    "    dim = shape(M)\n",
    "    n = dim[0]\n",
    "    m = dim[1]\n",
    "    for i in range(m):\n",
    "        for j in range(n):\n",
    "             out.append(M[i][j]*c)\n",
    "    out_2.append(out)\n",
    "    return out_2"
   ]
  },
  {
   "cell_type": "code",
   "execution_count": 54,
   "metadata": {},
   "outputs": [
    {
     "name": "stdout",
     "output_type": "stream",
     "text": [
      "[[2, 4, 6, 8, 10, 12, 14, 16, 18]]\n"
     ]
    }
   ],
   "source": [
    "#part 4b test\n",
    "A = [[1,2,3],[4,5,6],[7,8,9]]\n",
    "cA = scalarmul(A,2)\n",
    "print cA\n"
   ]
  },
  {
   "cell_type": "code",
   "execution_count": 55,
   "metadata": {
    "collapsed": true
   },
   "outputs": [],
   "source": [
    "#part 4c functions\n",
    "def add(M,N):\n",
    "    out = [[M[i][j]+N[i][j] for j in range(len(N[0]))] for i in range(len(M))]\n",
    "    return out"
   ]
  },
  {
   "cell_type": "code",
   "execution_count": 56,
   "metadata": {},
   "outputs": [
    {
     "name": "stdout",
     "output_type": "stream",
     "text": [
      "[[2, 2, 3], [4, 6, 6], [7, 8, 10]]\n",
      "[[2, 4, 6], [8, 10, 12], [14, 16, 18]]\n"
     ]
    }
   ],
   "source": [
    "#part 4c test\n",
    "A = [[1,2,3],[4,5,6],[7,8,9]]\n",
    "B = eye(3)\n",
    "C = add(A,B)\n",
    "print C\n",
    "\n",
    "D = [[1,2,3],[4,5,6],[7,8,9]]\n",
    "E = [[1,2,3],[4,5,6],[7,8,9]]\n",
    "F = add(D,E)\n",
    "print F"
   ]
  },
  {
   "cell_type": "code",
   "execution_count": 57,
   "metadata": {
    "collapsed": true
   },
   "outputs": [],
   "source": [
    "#part 4d functions\n",
    "def sub(M,N):\n",
    "    out = [[M[i][j]+(N[i][j]*-1) for j in range(len(N[0]))] for i in range(len(M))]\n",
    "    return out"
   ]
  },
  {
   "cell_type": "code",
   "execution_count": 58,
   "metadata": {},
   "outputs": [
    {
     "name": "stdout",
     "output_type": "stream",
     "text": [
      "[[0, 2, 3], [4, 4, 6], [7, 8, 8]]\n",
      "[[0, 0, 0], [0, 0, 0], [0, 0, 0]]\n"
     ]
    }
   ],
   "source": [
    "#part 4d test\n",
    "A = [[1,2,3],[4,5,6],[7,8,9]]\n",
    "B = eye(3)\n",
    "C = sub(A,B)\n",
    "print C\n",
    "\n",
    "D = [[1,2,3],[4,5,6],[7,8,9]]\n",
    "E = [[1,2,3],[4,5,6],[7,8,9]]\n",
    "F = sub(D,E)\n",
    "print F"
   ]
  },
  {
   "cell_type": "code",
   "execution_count": 59,
   "metadata": {
    "collapsed": true
   },
   "outputs": [],
   "source": [
    "#part 4e functions\n",
    "def elementmult(M,N):\n",
    "    out = [[M[i][j]*N[i][j] for j in range(len(N[0]))] for i in range(len(M))]\n",
    "    return out"
   ]
  },
  {
   "cell_type": "code",
   "execution_count": 60,
   "metadata": {},
   "outputs": [
    {
     "name": "stdout",
     "output_type": "stream",
     "text": [
      "[[5, 0, 15], [4, 10, 18], [21, 56, 54]]\n",
      "[[1, 4], [5, 12]]\n"
     ]
    }
   ],
   "source": [
    "#part 4e test\n",
    "A = [[1,2,3],[4,5,6],[7,8,9]]\n",
    "B = [[5,0,5],[1,2,3],[3,7,6]]\n",
    "C = elementmult(A,B)\n",
    "print C\n",
    "\n",
    "D = [[1,2,3,4],[5,6,7,8]]\n",
    "E = [[1,2],[1,2],[1,2],[1,2]]\n",
    "F = elementmult(D,E)\n",
    "print F"
   ]
  },
  {
   "cell_type": "code",
   "execution_count": 91,
   "metadata": {
    "collapsed": true
   },
   "outputs": [],
   "source": [
    "   "
   ]
  },
  {
   "cell_type": "code",
   "execution_count": 93,
   "metadata": {
    "collapsed": true
   },
   "outputs": [],
   "source": [
    "#part 4f functions\n",
    "def matmul2(M,N):\n",
    "    out = []\n",
    "    dim1 = shape(M)\n",
    "    col_M = dim1[0]\n",
    "    row_M = dim1[1]\n",
    "    dim2 = shape(N)\n",
    "    col_N = dim2[0]\n",
    "    row_N = dim2[1]\n",
    "    sum_3 = 0\n",
    "    if col_M != row_N:\n",
    "        print \"The matrices' dimensions are not compatible for multiplication!\"\n",
    "        return out.append(None)\n",
    "    else:\n",
    "        for i in range(0,col_M):\n",
    "            for j in range(0, row_N):\n",
    "                for k in range(0,row_N):\n",
    "                    sum_3 += M[i][k]*N[k][j]\n",
    "                out[i][j] = sum_3\n",
    "        return out"
   ]
  },
  {
   "cell_type": "code",
   "execution_count": 92,
   "metadata": {},
   "outputs": [
    {
     "name": "stdout",
     "output_type": "stream",
     "text": [
      "1\n"
     ]
    },
    {
     "ename": "IndexError",
     "evalue": "list index out of range",
     "output_type": "error",
     "traceback": [
      "\u001b[0;31m\u001b[0m",
      "\u001b[0;31mIndexError\u001b[0mTraceback (most recent call last)",
      "\u001b[0;32m<ipython-input-92-d4270054aa57>\u001b[0m in \u001b[0;36m<module>\u001b[0;34m()\u001b[0m\n\u001b[1;32m      2\u001b[0m \u001b[0mA\u001b[0m \u001b[0;34m=\u001b[0m \u001b[0;34m[\u001b[0m\u001b[0;34m[\u001b[0m\u001b[0;36m1\u001b[0m\u001b[0;34m,\u001b[0m\u001b[0;36m2\u001b[0m\u001b[0;34m,\u001b[0m\u001b[0;36m3\u001b[0m\u001b[0;34m]\u001b[0m\u001b[0;34m,\u001b[0m\u001b[0;34m[\u001b[0m\u001b[0;36m4\u001b[0m\u001b[0;34m,\u001b[0m\u001b[0;36m5\u001b[0m\u001b[0;34m,\u001b[0m\u001b[0;36m6\u001b[0m\u001b[0;34m]\u001b[0m\u001b[0;34m,\u001b[0m\u001b[0;34m[\u001b[0m\u001b[0;36m7\u001b[0m\u001b[0;34m,\u001b[0m\u001b[0;36m8\u001b[0m\u001b[0;34m,\u001b[0m\u001b[0;36m9\u001b[0m\u001b[0;34m]\u001b[0m\u001b[0;34m]\u001b[0m\u001b[0;34m\u001b[0m\u001b[0m\n\u001b[1;32m      3\u001b[0m \u001b[0mB\u001b[0m \u001b[0;34m=\u001b[0m \u001b[0;34m[\u001b[0m\u001b[0;34m[\u001b[0m\u001b[0;36m5\u001b[0m\u001b[0;34m,\u001b[0m\u001b[0;36m0\u001b[0m\u001b[0;34m,\u001b[0m\u001b[0;36m5\u001b[0m\u001b[0;34m]\u001b[0m\u001b[0;34m,\u001b[0m\u001b[0;34m[\u001b[0m\u001b[0;36m1\u001b[0m\u001b[0;34m,\u001b[0m\u001b[0;36m2\u001b[0m\u001b[0;34m,\u001b[0m\u001b[0;36m3\u001b[0m\u001b[0;34m]\u001b[0m\u001b[0;34m,\u001b[0m\u001b[0;34m[\u001b[0m\u001b[0;36m3\u001b[0m\u001b[0;34m,\u001b[0m\u001b[0;36m7\u001b[0m\u001b[0;34m,\u001b[0m\u001b[0;36m6\u001b[0m\u001b[0;34m]\u001b[0m\u001b[0;34m]\u001b[0m\u001b[0;34m\u001b[0m\u001b[0m\n\u001b[0;32m----> 4\u001b[0;31m \u001b[0mC\u001b[0m \u001b[0;34m=\u001b[0m \u001b[0mmatmul\u001b[0m\u001b[0;34m(\u001b[0m\u001b[0mA\u001b[0m\u001b[0;34m,\u001b[0m\u001b[0mB\u001b[0m\u001b[0;34m)\u001b[0m\u001b[0;34m\u001b[0m\u001b[0m\n\u001b[0m\u001b[1;32m      5\u001b[0m \u001b[0;32mprint\u001b[0m \u001b[0mC\u001b[0m\u001b[0;34m\u001b[0m\u001b[0m\n\u001b[1;32m      6\u001b[0m \u001b[0;34m\u001b[0m\u001b[0m\n",
      "\u001b[0;32m<ipython-input-91-aa826f83a3c0>\u001b[0m in \u001b[0;36mmatmul\u001b[0;34m(M, N)\u001b[0m\n\u001b[1;32m     16\u001b[0m                 \u001b[0;32mfor\u001b[0m \u001b[0mk\u001b[0m \u001b[0;32min\u001b[0m \u001b[0mrange\u001b[0m\u001b[0;34m(\u001b[0m\u001b[0;36m0\u001b[0m\u001b[0;34m,\u001b[0m\u001b[0mrow_N\u001b[0m\u001b[0;34m)\u001b[0m\u001b[0;34m:\u001b[0m\u001b[0;34m\u001b[0m\u001b[0m\n\u001b[1;32m     17\u001b[0m                     \u001b[0;32mprint\u001b[0m \u001b[0mM\u001b[0m\u001b[0;34m[\u001b[0m\u001b[0mi\u001b[0m\u001b[0;34m]\u001b[0m\u001b[0;34m[\u001b[0m\u001b[0mj\u001b[0m\u001b[0;34m]\u001b[0m\u001b[0;34m\u001b[0m\u001b[0m\n\u001b[0;32m---> 18\u001b[0;31m                     \u001b[0mout\u001b[0m\u001b[0;34m[\u001b[0m\u001b[0mi\u001b[0m\u001b[0;34m]\u001b[0m\u001b[0;34m[\u001b[0m\u001b[0mj\u001b[0m\u001b[0;34m]\u001b[0m \u001b[0;34m+=\u001b[0m \u001b[0mM\u001b[0m\u001b[0;34m[\u001b[0m\u001b[0mi\u001b[0m\u001b[0;34m]\u001b[0m\u001b[0;34m[\u001b[0m\u001b[0mk\u001b[0m\u001b[0;34m]\u001b[0m \u001b[0;34m*\u001b[0m \u001b[0mN\u001b[0m\u001b[0;34m[\u001b[0m\u001b[0mk\u001b[0m\u001b[0;34m]\u001b[0m\u001b[0;34m[\u001b[0m\u001b[0mj\u001b[0m\u001b[0;34m]\u001b[0m\u001b[0;34m\u001b[0m\u001b[0m\n\u001b[0m\u001b[1;32m     19\u001b[0m     \u001b[0;32mreturn\u001b[0m \u001b[0mout\u001b[0m\u001b[0;34m\u001b[0m\u001b[0m\n\u001b[1;32m     20\u001b[0m \u001b[0;34m\u001b[0m\u001b[0m\n",
      "\u001b[0;31mIndexError\u001b[0m: list index out of range"
     ]
    }
   ],
   "source": [
    "#part 4f test\n",
    "A = [[1,2,3],[4,5,6],[7,8,9]]\n",
    "B = [[5,0,5],[1,2,3],[3,7,6]]\n",
    "C = matmul2(A,B)\n",
    "print C\n",
    "\n",
    "D = [[1,2,3,4],[5,6,7,8]]\n",
    "E = [[1,2],[1,2],[1,2],[1,2]]\n",
    "F = matmul2(D,E)\n",
    "print F"
   ]
  },
  {
   "cell_type": "code",
   "execution_count": null,
   "metadata": {
    "collapsed": true
   },
   "outputs": [],
   "source": [
    "#part 4g functions\n",
    "def dot(A,B):\n",
    "    out = 0\n",
    "    for i,j in zip(A,B):\n",
    "        out += i*j\n",
    "    return out\n",
    "\n",
    "def outer(A,B):\n",
    "    out = elementmult(A,B)\n",
    "    return out"
   ]
  },
  {
   "cell_type": "code",
   "execution_count": null,
   "metadata": {},
   "outputs": [],
   "source": [
    "#part 4g tests\n",
    "A = [1,2,3]\n",
    "B = [4,5,6]\n",
    "c = dot(A,B)\n",
    "print c"
   ]
  },
  {
   "cell_type": "code",
   "execution_count": null,
   "metadata": {
    "collapsed": true
   },
   "outputs": [],
   "source": [
    "import math\n",
    "\n",
    "#part 5a functions\n",
    "def norm(M,i):\n",
    "    out = 0\n",
    "    if i == 1:\n",
    "        #compute 1-norm\n",
    "        sum_1 = 0\n",
    "        for j in range(0,len(M)):\n",
    "            sum_1 += abs(M[j])\n",
    "        out = sum_1\n",
    "    elif i == 2:\n",
    "        #compute 2-norm\n",
    "        sum_2 = 0\n",
    "        for j in range(0,len(M)):\n",
    "            x_squared = M[j] ** 2\n",
    "            sum_2 += x_squared\n",
    "        out = math.sqrt(sum_2)\n",
    "    elif i == 3:\n",
    "        string = raw_input(\"Enter p\")\n",
    "        p = float(string)\n",
    "        #compute p-norm\n",
    "        sum_3 = 0\n",
    "        for j in range(0,len(M)):\n",
    "            abs_x = abs(M[j])\n",
    "            abs_x_to_the_p = abs_x**(p)\n",
    "            sum_3 += abs_x_to_the_p\n",
    "            out = sum_3 ** (1/float(p))\n",
    "                \n",
    "    elif i == 4:\n",
    "        #compute infinity-norm\n",
    "        current_max = 0\n",
    "        for j in range(0,len(M)):\n",
    "            if M[j] > current_max:\n",
    "                current_max = M[j]\n",
    "        out = current_max\n",
    "    return out"
   ]
  },
  {
   "cell_type": "code",
   "execution_count": 81,
   "metadata": {},
   "outputs": [
    {
     "name": "stdout",
     "output_type": "stream",
     "text": [
      "6\n",
      "3.74165738677\n",
      "Enter p2\n",
      "3.74165738677\n",
      "3\n"
     ]
    }
   ],
   "source": [
    "#part 5a tests\n",
    "#1-norm\n",
    "A = [1,2,3]\n",
    "a = norm(A,1)\n",
    "print a\n",
    "\n",
    "#2-norm\n",
    "A = [1,2,3]\n",
    "b = norm(A,2)\n",
    "print b\n",
    "\n",
    "#p-norm\n",
    "A = [1,2,3]\n",
    "c = norm(A,3)\n",
    "print c\n",
    "\n",
    "#infinity-norm\n",
    "A = [1,2,3]\n",
    "d = norm(A,4)\n",
    "print d"
   ]
  },
  {
   "cell_type": "code",
   "execution_count": 97,
   "metadata": {
    "collapsed": true
   },
   "outputs": [],
   "source": [
    "from __future__ import division\n",
    "\n",
    "#part 6a functions\n",
    "def inv(M):\n",
    "    a = M\n",
    "    dim = shape(a)\n",
    "    n = dim[0]\n",
    "    m = dim[1]\n",
    "    p = 0 #let p = 0, d = 1;\n",
    "    d = 1\n",
    "    i = 0\n",
    "    j = 0\n",
    "    a_prime = []\n",
    "    for p in range(0,n):\n",
    "        if a[p][p] == 0:\n",
    "            print \"The inverse does not exist\"\n",
    "        else:\n",
    "            d_prime = d * a[p][p]\n",
    "            for j in range(0,n):\n",
    "                a_prime[p][j] = a[p][j] / a[p][p]\n",
    "                for i in range(0,n):\n",
    "                    a_prime[i][p] = (a[i][p] / a[p][p])*-1\n",
    "                    a_prime[i][j] = a[i][j] + a[p][j] * a_prime[i][p]\n",
    "                    a_prime[p][p] = 1 / a[p][p]                \n",
    "            "
   ]
  },
  {
   "cell_type": "code",
   "execution_count": 99,
   "metadata": {},
   "outputs": [
    {
     "ename": "IndexError",
     "evalue": "list index out of range",
     "output_type": "error",
     "traceback": [
      "\u001b[0;31m\u001b[0m",
      "\u001b[0;31mIndexError\u001b[0mTraceback (most recent call last)",
      "\u001b[0;32m<ipython-input-99-8f962b776687>\u001b[0m in \u001b[0;36m<module>\u001b[0;34m()\u001b[0m\n\u001b[1;32m      1\u001b[0m \u001b[0;31m#part 6a test\u001b[0m\u001b[0;34m\u001b[0m\u001b[0;34m\u001b[0m\u001b[0m\n\u001b[1;32m      2\u001b[0m \u001b[0mA\u001b[0m \u001b[0;34m=\u001b[0m \u001b[0;34m[\u001b[0m\u001b[0;34m[\u001b[0m\u001b[0;36m1\u001b[0m\u001b[0;34m,\u001b[0m\u001b[0;36m0\u001b[0m\u001b[0;34m,\u001b[0m\u001b[0;34m-\u001b[0m\u001b[0;36m2\u001b[0m\u001b[0;34m]\u001b[0m\u001b[0;34m,\u001b[0m\u001b[0;34m[\u001b[0m\u001b[0;36m3\u001b[0m\u001b[0;34m,\u001b[0m\u001b[0;36m1\u001b[0m\u001b[0;34m,\u001b[0m\u001b[0;34m-\u001b[0m\u001b[0;36m2\u001b[0m\u001b[0;34m]\u001b[0m\u001b[0;34m,\u001b[0m\u001b[0;34m[\u001b[0m\u001b[0;34m-\u001b[0m\u001b[0;36m5\u001b[0m\u001b[0;34m,\u001b[0m\u001b[0;34m-\u001b[0m\u001b[0;36m1\u001b[0m\u001b[0;34m,\u001b[0m\u001b[0;36m9\u001b[0m\u001b[0;34m]\u001b[0m\u001b[0;34m]\u001b[0m\u001b[0;34m\u001b[0m\u001b[0m\n\u001b[0;32m----> 3\u001b[0;31m \u001b[0mA_inv\u001b[0m \u001b[0;34m=\u001b[0m \u001b[0minv\u001b[0m\u001b[0;34m(\u001b[0m\u001b[0mA\u001b[0m\u001b[0;34m)\u001b[0m\u001b[0;34m\u001b[0m\u001b[0m\n\u001b[0m\u001b[1;32m      4\u001b[0m \u001b[0;32mprint\u001b[0m \u001b[0mA_inv\u001b[0m\u001b[0;34m\u001b[0m\u001b[0m\n",
      "\u001b[0;32m<ipython-input-97-f566b86ab709>\u001b[0m in \u001b[0;36minv\u001b[0;34m(M)\u001b[0m\n\u001b[1;32m     18\u001b[0m             \u001b[0md_prime\u001b[0m \u001b[0;34m=\u001b[0m \u001b[0md\u001b[0m \u001b[0;34m*\u001b[0m \u001b[0ma\u001b[0m\u001b[0;34m[\u001b[0m\u001b[0mp\u001b[0m\u001b[0;34m]\u001b[0m\u001b[0;34m[\u001b[0m\u001b[0mp\u001b[0m\u001b[0;34m]\u001b[0m\u001b[0;34m\u001b[0m\u001b[0m\n\u001b[1;32m     19\u001b[0m             \u001b[0;32mfor\u001b[0m \u001b[0mj\u001b[0m \u001b[0;32min\u001b[0m \u001b[0mrange\u001b[0m\u001b[0;34m(\u001b[0m\u001b[0;36m0\u001b[0m\u001b[0;34m,\u001b[0m\u001b[0mn\u001b[0m\u001b[0;34m)\u001b[0m\u001b[0;34m:\u001b[0m\u001b[0;34m\u001b[0m\u001b[0m\n\u001b[0;32m---> 20\u001b[0;31m                 \u001b[0ma_prime\u001b[0m\u001b[0;34m[\u001b[0m\u001b[0mp\u001b[0m\u001b[0;34m]\u001b[0m\u001b[0;34m[\u001b[0m\u001b[0mj\u001b[0m\u001b[0;34m]\u001b[0m \u001b[0;34m=\u001b[0m \u001b[0ma\u001b[0m\u001b[0;34m[\u001b[0m\u001b[0mp\u001b[0m\u001b[0;34m]\u001b[0m\u001b[0;34m[\u001b[0m\u001b[0mj\u001b[0m\u001b[0;34m]\u001b[0m \u001b[0;34m/\u001b[0m \u001b[0ma\u001b[0m\u001b[0;34m[\u001b[0m\u001b[0mp\u001b[0m\u001b[0;34m]\u001b[0m\u001b[0;34m[\u001b[0m\u001b[0mp\u001b[0m\u001b[0;34m]\u001b[0m\u001b[0;34m\u001b[0m\u001b[0m\n\u001b[0m\u001b[1;32m     21\u001b[0m                 \u001b[0;32mfor\u001b[0m \u001b[0mi\u001b[0m \u001b[0;32min\u001b[0m \u001b[0mrange\u001b[0m\u001b[0;34m(\u001b[0m\u001b[0;36m0\u001b[0m\u001b[0;34m,\u001b[0m\u001b[0mn\u001b[0m\u001b[0;34m)\u001b[0m\u001b[0;34m:\u001b[0m\u001b[0;34m\u001b[0m\u001b[0m\n\u001b[1;32m     22\u001b[0m                     \u001b[0ma_prime\u001b[0m\u001b[0;34m[\u001b[0m\u001b[0mi\u001b[0m\u001b[0;34m]\u001b[0m\u001b[0;34m[\u001b[0m\u001b[0mp\u001b[0m\u001b[0;34m]\u001b[0m \u001b[0;34m=\u001b[0m \u001b[0;34m(\u001b[0m\u001b[0ma\u001b[0m\u001b[0;34m[\u001b[0m\u001b[0mi\u001b[0m\u001b[0;34m]\u001b[0m\u001b[0;34m[\u001b[0m\u001b[0mp\u001b[0m\u001b[0;34m]\u001b[0m \u001b[0;34m/\u001b[0m \u001b[0ma\u001b[0m\u001b[0;34m[\u001b[0m\u001b[0mp\u001b[0m\u001b[0;34m]\u001b[0m\u001b[0;34m[\u001b[0m\u001b[0mp\u001b[0m\u001b[0;34m]\u001b[0m\u001b[0;34m)\u001b[0m\u001b[0;34m*\u001b[0m\u001b[0;34m-\u001b[0m\u001b[0;36m1\u001b[0m\u001b[0;34m\u001b[0m\u001b[0m\n",
      "\u001b[0;31mIndexError\u001b[0m: list index out of range"
     ]
    }
   ],
   "source": [
    "#part 6a test\n",
    "A = [[1,0,-2],[3,1,-2],[-5,-1,9]]\n",
    "A_inv = inv(A)\n",
    "print A_inv"
   ]
  },
  {
   "cell_type": "code",
   "execution_count": null,
   "metadata": {
    "collapsed": true
   },
   "outputs": [],
   "source": []
  }
 ],
 "metadata": {
  "kernelspec": {
   "display_name": "Python 2",
   "language": "python",
   "name": "python2"
  },
  "language_info": {
   "codemirror_mode": {
    "name": "ipython",
    "version": 2
   },
   "file_extension": ".py",
   "mimetype": "text/x-python",
   "name": "python",
   "nbconvert_exporter": "python",
   "pygments_lexer": "ipython2",
   "version": "2.7.13"
  }
 },
 "nbformat": 4,
 "nbformat_minor": 2
}
