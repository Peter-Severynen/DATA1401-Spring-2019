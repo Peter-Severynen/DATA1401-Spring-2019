{
 "cells": [
  {
   "cell_type": "code",
   "execution_count": 26,
   "metadata": {
    "collapsed": true
   },
   "outputs": [],
   "source": [
    "import math\n",
    "import random\n",
    "\n",
    "def generate_normal(N):\n",
    "    out = list()\n",
    "    #Write your solution here\n",
    "    if N % 2 == 0:\n",
    "        N = N+1\n",
    "    for i in range(0,N):\n",
    "        u_1 = random.random()\n",
    "        u_2 = random.random()\n",
    "        z_0 = math.sqrt(-2*math.log(u_1))*math.cos(2*math.pi*u_2)\n",
    "        z_1 = math.sqrt(-2*math.log(u_1))*math.sin(2*math.pi*u_2)\n",
    "        out.append(z_0)\n",
    "        out.append(z_1)\n",
    "    return out"
   ]
  },
  {
   "cell_type": "code",
   "execution_count": 27,
   "metadata": {
    "collapsed": true
   },
   "outputs": [],
   "source": [
    "def mean(x):\n",
    "    return sum(x)/float(len(x))"
   ]
  },
  {
   "cell_type": "code",
   "execution_count": 28,
   "metadata": {
    "collapsed": true
   },
   "outputs": [],
   "source": [
    "def variance(x):\n",
    "    return sum(map(lambda y: y**2,x))/float(len(x))-mean(x)**2"
   ]
  },
  {
   "cell_type": "code",
   "execution_count": 30,
   "metadata": {},
   "outputs": [
    {
     "name": "stdout",
     "output_type": "stream",
     "text": [
      "Mean is 0.0182102952156\n",
      "Variance is 1.04225222175\n"
     ]
    }
   ],
   "source": [
    "#test your solution here\n",
    "r = generate_normal(1000)\n",
    "mu = mean(r)\n",
    "sigma_squared = variance(r)\n",
    "print 'Mean is '+str(mu)\n",
    "print 'Variance is '+str(sigma_squared)"
   ]
  },
  {
   "cell_type": "code",
   "execution_count": null,
   "metadata": {
    "collapsed": true
   },
   "outputs": [],
   "source": []
  }
 ],
 "metadata": {
  "kernelspec": {
   "display_name": "Python 2",
   "language": "python",
   "name": "python2"
  },
  "language_info": {
   "codemirror_mode": {
    "name": "ipython",
    "version": 2
   },
   "file_extension": ".py",
   "mimetype": "text/x-python",
   "name": "python",
   "nbconvert_exporter": "python",
   "pygments_lexer": "ipython2",
   "version": "2.7.13"
  }
 },
 "nbformat": 4,
 "nbformat_minor": 2
}
