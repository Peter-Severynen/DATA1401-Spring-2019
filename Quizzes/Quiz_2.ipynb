{
 "cells": [
  {
   "cell_type": "code",
   "execution_count": 8,
   "metadata": {},
   "outputs": [],
   "source": [
    "from gradebook import *"
   ]
  },
  {
   "cell_type": "code",
   "execution_count": 1,
   "metadata": {},
   "outputs": [
    {
     "ename": "NameError",
     "evalue": "name 'grade_calculator' is not defined",
     "output_type": "error",
     "traceback": [
      "\u001b[0;31m\u001b[0m",
      "\u001b[0;31mNameError\u001b[0mTraceback (most recent call last)",
      "\u001b[0;32m<ipython-input-1-c3ca6706985e>\u001b[0m in \u001b[0;36m<module>\u001b[0;34m()\u001b[0m\n\u001b[0;32m----> 1\u001b[0;31m \u001b[0;32mclass\u001b[0m \u001b[0mcurved_letter_grader\u001b[0m\u001b[0;34m(\u001b[0m\u001b[0mgrade_calculator\u001b[0m\u001b[0;34m)\u001b[0m\u001b[0;34m:\u001b[0m\u001b[0;34m\u001b[0m\u001b[0m\n\u001b[0m\u001b[1;32m      2\u001b[0m     \u001b[0mA_threshold\u001b[0m \u001b[0;34m=\u001b[0m \u001b[0mself\u001b[0m\u001b[0;34m.\u001b[0m\u001b[0m__mu\u001b[0m\u001b[0;34m+\u001b[0m\u001b[0mstd\u001b[0m\u001b[0;34m\u001b[0m\u001b[0m\n\u001b[1;32m      3\u001b[0m     \u001b[0mB_threshold\u001b[0m \u001b[0;34m=\u001b[0m \u001b[0mmu\u001b[0m\u001b[0;34m\u001b[0m\u001b[0m\n\u001b[1;32m      4\u001b[0m     \u001b[0mC_threshold\u001b[0m \u001b[0;34m=\u001b[0m \u001b[0mmu\u001b[0m\u001b[0;34m-\u001b[0m\u001b[0mstd\u001b[0m\u001b[0;34m\u001b[0m\u001b[0m\n\u001b[1;32m      5\u001b[0m     \u001b[0mD_threshold\u001b[0m \u001b[0;34m=\u001b[0m \u001b[0;34m(\u001b[0m\u001b[0mmu\u001b[0m\u001b[0;34m-\u001b[0m\u001b[0;36m2\u001b[0m\u001b[0;34m*\u001b[0m\u001b[0mstd\u001b[0m\u001b[0;34m)\u001b[0m\u001b[0;34m\u001b[0m\u001b[0m\n",
      "\u001b[0;31mNameError\u001b[0m: name 'grade_calculator' is not defined"
     ]
    }
   ],
   "source": [
    "class curved_letter_grader(grade_calculator):\n",
    "    A_threshold = self.__mu+std\n",
    "    B_threshold = self.__mu\n",
    "    C_threshold = self.__mu-std\n",
    "    D_threshold = (self.__mu-2*self.__std)\n",
    "    F_threshold = 0\n",
    "    __grades_definition=[ (A_threshold,\"A\"),\n",
    "                          (B_threshold,\"B\"),\n",
    "                          (C_threshold,\"C\"),\n",
    "                          (D_threshold,\"D\"),\n",
    "                          (F_threshold,\"F\")]\n",
    "    __max_grade=100.\n",
    "    __grade_name=str()\n",
    "    \n",
    "    def __init__(self,grade_name,max_grade=100.):\n",
    "        self.__max_grade=max_grade\n",
    "        self.__grade_name=grade_name\n",
    "        self.__mu = mu\n",
    "        self.__std = std\n",
    "        grade_calculator.__init__(self,\n",
    "                                  \"Curved Based Grade Calculator \"+self.__grade_name+\" Max=\"+str(self.__max_grade),\n",
    "                                 False)\n",
    "        \n",
    "\n",
    "    def apply(self,a_grade):\n",
    "        if not isinstance(a_grade,grade):\n",
    "            print isinstance(a_grade,grade)\n",
    "            print self.name()+ \" Error: Did not get a proper grade as input.\"\n",
    "            raise Exception\n",
    "        if not a_grade.numerical():\n",
    "            print self.name()+ \" Error: Did not get a numerical grade as input.\"\n",
    "            raise Exception\n",
    "\n",
    "        #percent=a_grade.value()/self.__max_grade\n",
    "        \n",
    "        for i,v in enumerate(self.__grades_definition):\n",
    "            #print percent, i, v\n",
    "            #if percent>=v[0]:\n",
    "            #    break\n",
    "                            \n",
    "        return grade(self.__grade_name,value=self.__grades_definition[i][1])"
   ]
  },
  {
   "cell_type": "code",
   "execution_count": 2,
   "metadata": {},
   "outputs": [
    {
     "ename": "NameError",
     "evalue": "name 'curved_letter_grader' is not defined",
     "output_type": "error",
     "traceback": [
      "\u001b[0;31m\u001b[0m",
      "\u001b[0;31mNameError\u001b[0mTraceback (most recent call last)",
      "\u001b[0;32m<ipython-input-2-fbde14a2305e>\u001b[0m in \u001b[0;36m<module>\u001b[0;34m()\u001b[0m\n\u001b[0;32m----> 1\u001b[0;31m \u001b[0ma_grader\u001b[0m\u001b[0;34m=\u001b[0m\u001b[0mcurved_letter_grader\u001b[0m\u001b[0;34m(\u001b[0m\u001b[0;36m100\u001b[0m\u001b[0;34m,\u001b[0m\u001b[0;36m20\u001b[0m\u001b[0;34m,\u001b[0m\u001b[0mgrade_name\u001b[0m\u001b[0;34m=\u001b[0m\u001b[0;34m\"Exam 1 Test Grade\"\u001b[0m\u001b[0;34m)\u001b[0m\u001b[0;34m\u001b[0m\u001b[0m\n\u001b[0m\u001b[1;32m      2\u001b[0m \u001b[0;32mprint\u001b[0m \u001b[0ma_grader\u001b[0m\u001b[0;34m.\u001b[0m\u001b[0mapply\u001b[0m\u001b[0;34m(\u001b[0m\u001b[0ma_student\u001b[0m\u001b[0;34m[\u001b[0m\u001b[0;34m\"Exam 1\"\u001b[0m\u001b[0;34m]\u001b[0m\u001b[0;34m)\u001b[0m\u001b[0;34m\u001b[0m\u001b[0m\n\u001b[1;32m      3\u001b[0m \u001b[0;32mprint\u001b[0m \u001b[0ma_grader\u001b[0m\u001b[0;34m.\u001b[0m\u001b[0mapply\u001b[0m\u001b[0;34m(\u001b[0m\u001b[0mgrade\u001b[0m\u001b[0;34m(\u001b[0m\u001b[0;34m\"Test Grade\"\u001b[0m\u001b[0;34m,\u001b[0m\u001b[0mvalue\u001b[0m\u001b[0;34m=\u001b[0m\u001b[0;36m75.\u001b[0m\u001b[0;34m)\u001b[0m\u001b[0;34m)\u001b[0m\u001b[0;34m\u001b[0m\u001b[0m\n",
      "\u001b[0;31mNameError\u001b[0m: name 'curved_letter_grader' is not defined"
     ]
    }
   ],
   "source": [
    "a_grader=curved_letter_grader(100,20,grade_name=\"Exam 1 Test Grade\")\n",
    "print a_grader.apply(a_student[\"Exam 1\"])\n",
    "print a_grader.apply(grade(\"Test Grade\",value=75.))"
   ]
  },
  {
   "cell_type": "code",
   "execution_count": null,
   "metadata": {},
   "outputs": [],
   "source": []
  }
 ],
 "metadata": {
  "kernelspec": {
   "display_name": "Python 2",
   "language": "python",
   "name": "python2"
  },
  "language_info": {
   "codemirror_mode": {
    "name": "ipython",
    "version": 2
   },
   "file_extension": ".py",
   "mimetype": "text/x-python",
   "name": "python",
   "nbconvert_exporter": "python",
   "pygments_lexer": "ipython2",
   "version": "2.7.15"
  }
 },
 "nbformat": 4,
 "nbformat_minor": 2
}
